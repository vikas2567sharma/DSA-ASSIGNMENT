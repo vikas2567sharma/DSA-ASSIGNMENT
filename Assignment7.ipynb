{
 "cells": [
  {
   "cell_type": "markdown",
   "id": "97b26bcd",
   "metadata": {},
   "source": [
    "# Q1"
   ]
  },
  {
   "cell_type": "code",
   "execution_count": null,
   "id": "7997c36b",
   "metadata": {},
   "outputs": [],
   "source": [
    "class Solution:\n",
    "    def isIsomorphic(self, s: str, t: str) -> bool:\n",
    "        d1, d2 = [0] * 256, [0] * 256\n",
    "        for i, (a, b) in enumerate(zip(s, t), 1):\n",
    "            a, b = ord(a), ord(b)\n",
    "            if d1[a] != d2[b]:\n",
    "                return False\n",
    "            d1[a] = d2[b] = i\n",
    "        return True"
   ]
  },
  {
   "cell_type": "markdown",
   "id": "124fa839",
   "metadata": {},
   "source": [
    "# Q2"
   ]
  },
  {
   "cell_type": "code",
   "execution_count": null,
   "id": "59bca73e",
   "metadata": {},
   "outputs": [],
   "source": [
    "class Solution:\n",
    "    def isStrobogrammatic(self, num: str) -> bool:\n",
    "        d = [0, 1, -1, -1, -1, -1, 9, -1, 8, 6]\n",
    "        i, j = 0, len(num) - 1\n",
    "        while i <= j:\n",
    "            a, b = int(num[i]), int(num[j])\n",
    "            if d[a] != b:\n",
    "                return False\n",
    "            i, j = i + 1, j - 1\n",
    "        return True"
   ]
  },
  {
   "cell_type": "markdown",
   "id": "10914fb8",
   "metadata": {},
   "source": [
    "# Q3"
   ]
  },
  {
   "cell_type": "code",
   "execution_count": null,
   "id": "e9db8102",
   "metadata": {},
   "outputs": [],
   "source": [
    "class Solution:\n",
    "    def addStrings(self, num1: str, num2: str) -> str:\n",
    "        i, j = len(num1) - 1, len(num2) - 1\n",
    "        ans = []\n",
    "        c = 0\n",
    "        while i >= 0 or j >= 0 or c:\n",
    "            a = 0 if i < 0 else int(num1[i])\n",
    "            b = 0 if j < 0 else int(num2[j])\n",
    "            c, v = divmod(a + b + c, 10)\n",
    "            ans.append(str(v))\n",
    "            i, j = i - 1, j - 1\n",
    "        return \"\".join(ans[::-1])\n",
    "\n",
    "    def subStrings(self, num1: str, num2: str) -> str:\n",
    "        m, n = len(num1), len(num2)\n",
    "        neg = m < n or (m == n and num1 < num2)\n",
    "        if neg:\n",
    "            num1, num2 = num2, num1\n",
    "        i, j = len(num1) - 1, len(num2) - 1\n",
    "        ans = []\n",
    "        c = 0\n",
    "        while i >= 0:\n",
    "            c = int(num1[i]) - c - (0 if j < 0 else int(num2[j]))\n",
    "            ans.append(str((c + 10) % 10))\n",
    "            c = 1 if c < 0 else 0\n",
    "            i, j = i - 1, j - 1\n",
    "        while len(ans) > 1 and ans[-1] == \"0\":\n",
    "            ans.pop()\n",
    "        if neg:\n",
    "            ans.append(\"-\")\n",
    "        return \"\".join(ans[::-1])"
   ]
  },
  {
   "cell_type": "markdown",
   "id": "52471229",
   "metadata": {},
   "source": [
    "# Q4"
   ]
  },
  {
   "cell_type": "code",
   "execution_count": null,
   "id": "a195564f",
   "metadata": {},
   "outputs": [],
   "source": [
    "class Solution:\n",
    "    def reverseWords(self, s: str) -> str:\n",
    "        return ' '.join([t[::-1] for t in s.split(' ')])"
   ]
  },
  {
   "cell_type": "markdown",
   "id": "6b39f31e",
   "metadata": {},
   "source": [
    "# Q5"
   ]
  },
  {
   "cell_type": "code",
   "execution_count": null,
   "id": "d0988093",
   "metadata": {},
   "outputs": [],
   "source": [
    "class Solution:\n",
    "    def reverseStr(self, s: str, k: int) -> str:\n",
    "        t = list(s)\n",
    "        for i in range(0, len(t), k << 1):\n",
    "            t[i : i + k] = reversed(t[i : i + k])\n",
    "        return ''.join(t)"
   ]
  },
  {
   "cell_type": "markdown",
   "id": "347ee1b4",
   "metadata": {},
   "source": [
    "# Q6"
   ]
  },
  {
   "cell_type": "code",
   "execution_count": null,
   "id": "aa578306",
   "metadata": {},
   "outputs": [],
   "source": [
    "class Solution:\n",
    "    def rotateString(self, s: str, goal: str) -> bool:\n",
    "        return len(s) == len(goal) and goal in s + s"
   ]
  },
  {
   "cell_type": "markdown",
   "id": "78c40fc3",
   "metadata": {},
   "source": [
    "# Q7"
   ]
  },
  {
   "cell_type": "code",
   "execution_count": null,
   "id": "0afa7ed2",
   "metadata": {},
   "outputs": [],
   "source": [
    "class Solution:\n",
    "    def backspaceCompare(self, s: str, t: str) -> bool:\n",
    "        i, j, skip1, skip2 = len(s) - 1, len(t) - 1, 0, 0\n",
    "        while i >= 0 or j >= 0:\n",
    "            while i >= 0:\n",
    "                if s[i] == '#':\n",
    "                    skip1 += 1\n",
    "                    i -= 1\n",
    "                elif skip1:\n",
    "                    skip1 -= 1\n",
    "                    i -= 1\n",
    "                else:\n",
    "                    break\n",
    "            while j >= 0:\n",
    "                if t[j] == '#':\n",
    "                    skip2 += 1\n",
    "                    j -= 1\n",
    "                elif skip2:\n",
    "                    skip2 -= 1\n",
    "                    j -= 1\n",
    "                else:\n",
    "                    break\n",
    "            if i >= 0 and j >= 0:\n",
    "                if s[i] != t[j]:\n",
    "                    return False\n",
    "            elif i >= 0 or j >= 0:\n",
    "                return False\n",
    "            i, j = i - 1, j - 1\n",
    "        return True"
   ]
  },
  {
   "cell_type": "markdown",
   "id": "b2ff3388",
   "metadata": {},
   "source": [
    "# Q8"
   ]
  },
  {
   "cell_type": "code",
   "execution_count": null,
   "id": "69bbc107",
   "metadata": {},
   "outputs": [],
   "source": [
    "class Solution:\n",
    "    def checkStraightLine(self, coordinates: List[List[int]]) -> bool:\n",
    "        x1, y1 = coordinates[0]\n",
    "        x2, y2 = coordinates[1]\n",
    "        for x, y in coordinates[2:]:\n",
    "            if (x - x1) * (y2 - y1) != (y - y1) * (x2 - x1):\n",
    "                return False\n",
    "        return True"
   ]
  }
 ],
 "metadata": {
  "kernelspec": {
   "display_name": "Python 3 (ipykernel)",
   "language": "python",
   "name": "python3"
  },
  "language_info": {
   "codemirror_mode": {
    "name": "ipython",
    "version": 3
   },
   "file_extension": ".py",
   "mimetype": "text/x-python",
   "name": "python",
   "nbconvert_exporter": "python",
   "pygments_lexer": "ipython3",
   "version": "3.9.12"
  }
 },
 "nbformat": 4,
 "nbformat_minor": 5
}
