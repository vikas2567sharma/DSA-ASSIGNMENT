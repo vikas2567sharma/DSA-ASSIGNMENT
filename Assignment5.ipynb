{
 "cells": [
  {
   "cell_type": "markdown",
   "id": "5ba04c0e",
   "metadata": {},
   "source": [
    "# Q.1"
   ]
  },
  {
   "cell_type": "code",
   "execution_count": null,
   "id": "b246ce6e",
   "metadata": {},
   "outputs": [],
   "source": [
    "class Solution:\n",
    "    def construct2DArray(self, original: List[int], m: int, n: int) -> List[List[int]]:\n",
    "        if m * n != len(original):\n",
    "            return []\n",
    "        return [original[i : i + n] for i in range(0, m * n, n)]"
   ]
  },
  {
   "cell_type": "markdown",
   "id": "ddc3f823",
   "metadata": {},
   "source": [
    "# Q.2"
   ]
  },
  {
   "cell_type": "code",
   "execution_count": null,
   "id": "5483b757",
   "metadata": {},
   "outputs": [],
   "source": [
    "class Solution:\n",
    "    def arrangeCoins(self, n: int) -> int:\n",
    "        return int(math.sqrt(2) * math.sqrt(n + 0.125) - 0.5)"
   ]
  },
  {
   "cell_type": "markdown",
   "id": "a5a05d81",
   "metadata": {},
   "source": [
    "# Q.3"
   ]
  },
  {
   "cell_type": "code",
   "execution_count": null,
   "id": "3c6ffc7d",
   "metadata": {},
   "outputs": [],
   "source": [
    "class Solution:\n",
    "    def sortedSquares(self, nums: List[int]) -> List[int]:\n",
    "        n = len(nums)\n",
    "        res = [0] * n\n",
    "        i, j, k = 0, n - 1, n - 1\n",
    "        while i <= j:\n",
    "            if nums[i] * nums[i] > nums[j] * nums[j]:\n",
    "                res[k] = nums[i] * nums[i]\n",
    "                i += 1\n",
    "            else:\n",
    "                res[k] = nums[j] * nums[j]\n",
    "                j -= 1\n",
    "            k -= 1\n",
    "        return res"
   ]
  },
  {
   "cell_type": "markdown",
   "id": "f5d0b1b3",
   "metadata": {},
   "source": [
    "# Q.4"
   ]
  },
  {
   "cell_type": "code",
   "execution_count": null,
   "id": "3fbf6102",
   "metadata": {},
   "outputs": [],
   "source": [
    "class Solution:\n",
    "    def findDuplicates(self, nums: List[int]) -> List[int]:\n",
    "        for i in range(len(nums)):\n",
    "            while nums[i] != nums[nums[i] - 1]:\n",
    "                nums[nums[i] - 1], nums[i] = nums[i], nums[nums[i] - 1]\n",
    "        return [v for i, v in enumerate(nums) if v != i + 1]"
   ]
  },
  {
   "cell_type": "markdown",
   "id": "5c1ffd4c",
   "metadata": {},
   "source": [
    "# Q.5"
   ]
  },
  {
   "cell_type": "code",
   "execution_count": null,
   "id": "83fb9606",
   "metadata": {},
   "outputs": [],
   "source": [
    "class Solution:\n",
    "    def findTheDistanceValue(self, arr1: List[int], arr2: List[int], d: int) -> int:\n",
    "        def check(a: int) -> bool:\n",
    "            i = bisect_left(arr2, a - d)\n",
    "            return i == len(arr2) or arr2[i] > a + d\n",
    "\n",
    "        arr2.sort()\n",
    "        return sum(check(a) for a in arr1)"
   ]
  },
  {
   "cell_type": "markdown",
   "id": "5c9b3b08",
   "metadata": {},
   "source": [
    "# Q.6"
   ]
  },
  {
   "cell_type": "code",
   "execution_count": null,
   "id": "037c7fbe",
   "metadata": {},
   "outputs": [],
   "source": [
    "class Solution:\n",
    "    def findDuplicates(self, nums: List[int]) -> List[int]:\n",
    "        for i in range(len(nums)):\n",
    "            while nums[i] != nums[nums[i] - 1]:\n",
    "                nums[nums[i] - 1], nums[i] = nums[i], nums[nums[i] - 1]\n",
    "        return [v for i, v in enumerate(nums) if v != i + 1]"
   ]
  },
  {
   "cell_type": "markdown",
   "id": "9f4ceb16",
   "metadata": {},
   "source": [
    "# Q.7"
   ]
  },
  {
   "cell_type": "code",
   "execution_count": null,
   "id": "c4e35b15",
   "metadata": {},
   "outputs": [],
   "source": [
    "class Solution:\n",
    "    def findMin(self, nums: List[int]) -> int:\n",
    "        if nums[0] <= nums[-1]:\n",
    "            return nums[0]\n",
    "        left, right = 0, len(nums) - 1\n",
    "        while left < right:\n",
    "            mid = (left + right) >> 1\n",
    "            if nums[0] <= nums[mid]:\n",
    "                left = mid + 1\n",
    "            else:\n",
    "                right = mid\n",
    "        return nums[left]"
   ]
  },
  {
   "cell_type": "markdown",
   "id": "e1c184fe",
   "metadata": {},
   "source": [
    "# Q.8"
   ]
  },
  {
   "cell_type": "code",
   "execution_count": null,
   "id": "1e63031e",
   "metadata": {},
   "outputs": [],
   "source": [
    "class Solution:\n",
    "    def findOriginalArray(self, changed: List[int]) -> List[int]:\n",
    "        n = len(changed)\n",
    "        if n & 1:\n",
    "            return []\n",
    "        cnt = Counter(changed)\n",
    "        changed.sort()\n",
    "        ans = []\n",
    "        for x in changed:\n",
    "            if cnt[x] == 0:\n",
    "                continue\n",
    "            if cnt[x * 2] <= 0:\n",
    "                return []\n",
    "            ans.append(x)\n",
    "            cnt[x] -= 1\n",
    "            cnt[x * 2] -= 1\n",
    "        return ans if len(ans) == n // 2 else []"
   ]
  }
 ],
 "metadata": {
  "kernelspec": {
   "display_name": "Python 3 (ipykernel)",
   "language": "python",
   "name": "python3"
  },
  "language_info": {
   "codemirror_mode": {
    "name": "ipython",
    "version": 3
   },
   "file_extension": ".py",
   "mimetype": "text/x-python",
   "name": "python",
   "nbconvert_exporter": "python",
   "pygments_lexer": "ipython3",
   "version": "3.9.12"
  }
 },
 "nbformat": 4,
 "nbformat_minor": 5
}
