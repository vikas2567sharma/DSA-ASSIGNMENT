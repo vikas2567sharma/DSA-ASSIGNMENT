{
 "cells": [
  {
   "cell_type": "markdown",
   "id": "21e1b349",
   "metadata": {},
   "source": [
    "# Q1"
   ]
  },
  {
   "cell_type": "code",
   "execution_count": null,
   "id": "cd5d5b07",
   "metadata": {},
   "outputs": [],
   "source": [
    "class Solution:\n",
    "    def minimumDeleteSum(self, s1: str, s2: str) -> int:\n",
    "        m, n = len(s1), len(s2)\n",
    "        f = [[0] * (n + 1) for _ in range(m + 1)]\n",
    "        for i in range(1, m + 1):\n",
    "            f[i][0] = f[i - 1][0] + ord(s1[i - 1])\n",
    "        for j in range(1, n + 1):\n",
    "            f[0][j] = f[0][j - 1] + ord(s2[j - 1])\n",
    "        for i in range(1, m + 1):\n",
    "            for j in range(1, n + 1):\n",
    "                if s1[i - 1] == s2[j - 1]:\n",
    "                    f[i][j] = f[i - 1][j - 1]\n",
    "                else:\n",
    "                    f[i][j] = min(\n",
    "                        f[i - 1][j] + ord(s1[i - 1]), f[i][j - 1] + ord(s2[j - 1])\n",
    "                    )\n",
    "        return f[m][n]"
   ]
  },
  {
   "cell_type": "markdown",
   "id": "61a3361e",
   "metadata": {},
   "source": [
    "# Q2"
   ]
  },
  {
   "cell_type": "code",
   "execution_count": null,
   "id": "6b049c88",
   "metadata": {},
   "outputs": [],
   "source": [
    "class Solution:\n",
    "    def checkValidString(self, s: str) -> bool:\n",
    "        x = 0\n",
    "        for c in s:\n",
    "            if c in '(*':\n",
    "                x += 1\n",
    "            elif x:\n",
    "                x -= 1\n",
    "            else:\n",
    "                return False\n",
    "        x = 0\n",
    "        for c in s[::-1]:\n",
    "            if c in '*)':\n",
    "                x += 1\n",
    "            elif x:\n",
    "                x -= 1\n",
    "            else:\n",
    "                return False\n",
    "        return True"
   ]
  },
  {
   "cell_type": "markdown",
   "id": "884746bb",
   "metadata": {},
   "source": [
    "# Q3"
   ]
  },
  {
   "cell_type": "code",
   "execution_count": null,
   "id": "049b766d",
   "metadata": {},
   "outputs": [],
   "source": [
    "class Solution:\n",
    "    def minDistance(self, word1: str, word2: str) -> int:\n",
    "        m, n = len(word1), len(word2)\n",
    "        dp = [[0] * (n + 1) for _ in range(m + 1)]\n",
    "        for i in range(1, m + 1):\n",
    "            dp[i][0] = i\n",
    "        for j in range(1, n + 1):\n",
    "            dp[0][j] = j\n",
    "        for i in range(1, m + 1):\n",
    "            for j in range(1, n + 1):\n",
    "                if word1[i - 1] == word2[j - 1]:\n",
    "                    dp[i][j] = dp[i - 1][j - 1]\n",
    "                else:\n",
    "                    dp[i][j] = 1 + min(dp[i - 1][j], dp[i][j - 1])\n",
    "        return dp[-1][-1]"
   ]
  },
  {
   "cell_type": "markdown",
   "id": "fb58a978",
   "metadata": {},
   "source": [
    "# Q4"
   ]
  },
  {
   "cell_type": "code",
   "execution_count": null,
   "id": "cf0e4e10",
   "metadata": {},
   "outputs": [],
   "source": [
    "# Definition for a binary tree node.\n",
    "# class TreeNode:\n",
    "#     def __init__(self, val=0, left=None, right=None):\n",
    "#         self.val = val\n",
    "#         self.left = left\n",
    "#         self.right = right\n",
    "class Solution:\n",
    "    def tree2str(self, root: Optional[TreeNode]) -> str:\n",
    "        def dfs(root):\n",
    "            if root is None:\n",
    "                return ''\n",
    "            if root.left is None and root.right is None:\n",
    "                return str(root.val)\n",
    "            if root.right is None:\n",
    "                return f'{root.val}({dfs(root.left)})'\n",
    "            return f'{root.val}({dfs(root.left)})({dfs(root.right)})'\n",
    "\n",
    "        return dfs(root)"
   ]
  },
  {
   "cell_type": "markdown",
   "id": "49764727",
   "metadata": {},
   "source": [
    "# Q5"
   ]
  },
  {
   "cell_type": "code",
   "execution_count": null,
   "id": "c2ec79de",
   "metadata": {},
   "outputs": [],
   "source": [
    "class Solution:\n",
    "    def compress(self, chars: List[str]) -> int:\n",
    "        i, k, n = 0, 0, len(chars)\n",
    "        while i < n:\n",
    "            j = i + 1\n",
    "            while j < n and chars[j] == chars[i]:\n",
    "                j += 1\n",
    "            chars[k] = chars[i]\n",
    "            k += 1\n",
    "            if j - i > 1:\n",
    "                cnt = str(j - i)\n",
    "                for c in cnt:\n",
    "                    chars[k] = c\n",
    "                    k += 1\n",
    "            i = j\n",
    "        return k"
   ]
  },
  {
   "cell_type": "markdown",
   "id": "c1627936",
   "metadata": {},
   "source": [
    "# Q6"
   ]
  },
  {
   "cell_type": "code",
   "execution_count": null,
   "id": "b55ed21b",
   "metadata": {},
   "outputs": [],
   "source": [
    "class Solution:\n",
    "    def findAnagrams(self, s: str, p: str) -> List[int]:\n",
    "        m, n = len(s), len(p)\n",
    "        ans = []\n",
    "        if m < n:\n",
    "            return ans\n",
    "        cnt1 = Counter(p)\n",
    "        cnt2 = Counter(s[: n - 1])\n",
    "        for i in range(n - 1, m):\n",
    "            cnt2[s[i]] += 1\n",
    "            if cnt1 == cnt2:\n",
    "                ans.append(i - n + 1)\n",
    "            cnt2[s[i - n + 1]] -= 1\n",
    "        return ans"
   ]
  },
  {
   "cell_type": "markdown",
   "id": "ccf764d4",
   "metadata": {},
   "source": [
    "# Q7"
   ]
  },
  {
   "cell_type": "code",
   "execution_count": null,
   "id": "c4998c2c",
   "metadata": {},
   "outputs": [],
   "source": [
    "class Solution:\n",
    "    def decodeString(self, s: str) -> str:\n",
    "        s1, s2 = [], []\n",
    "        num, res = 0, ''\n",
    "        for c in s:\n",
    "            if c.isdigit():\n",
    "                num = num * 10 + int(c)\n",
    "            elif c == '[':\n",
    "                s1.append(num)\n",
    "                s2.append(res)\n",
    "                num, res = 0, ''\n",
    "            elif c == ']':\n",
    "                res = s2.pop() + res * s1.pop()\n",
    "            else:\n",
    "                res += c\n",
    "        return res"
   ]
  },
  {
   "cell_type": "markdown",
   "id": "b83c9923",
   "metadata": {},
   "source": [
    "# Q8"
   ]
  },
  {
   "cell_type": "code",
   "execution_count": null,
   "id": "c953decd",
   "metadata": {},
   "outputs": [],
   "source": [
    "class Solution:\n",
    "    def buddyStrings(self, s: str, goal: str) -> bool:\n",
    "        m, n = len(s), len(goal)\n",
    "        if m != n:\n",
    "            return False\n",
    "        cnt1, cnt2 = Counter(s), Counter(goal)\n",
    "        if cnt1 != cnt2:\n",
    "            return False\n",
    "        diff = sum(s[i] != goal[i] for i in range(n))\n",
    "        return diff == 2 or (diff == 0 and any(v > 1 for v in cnt1.values()))"
   ]
  }
 ],
 "metadata": {
  "kernelspec": {
   "display_name": "Python 3 (ipykernel)",
   "language": "python",
   "name": "python3"
  },
  "language_info": {
   "codemirror_mode": {
    "name": "ipython",
    "version": 3
   },
   "file_extension": ".py",
   "mimetype": "text/x-python",
   "name": "python",
   "nbconvert_exporter": "python",
   "pygments_lexer": "ipython3",
   "version": "3.9.12"
  }
 },
 "nbformat": 4,
 "nbformat_minor": 5
}
