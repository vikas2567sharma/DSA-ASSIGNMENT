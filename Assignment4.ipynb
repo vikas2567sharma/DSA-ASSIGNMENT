{
 "cells": [
  {
   "cell_type": "markdown",
   "id": "681582b7",
   "metadata": {},
   "source": [
    "# Q.1"
   ]
  },
  {
   "cell_type": "code",
   "execution_count": null,
   "id": "f39abbcf",
   "metadata": {},
   "outputs": [],
   "source": [
    "class Solution:\n",
    "    def arraysIntersection(\n",
    "        self, arr1: List[int], arr2: List[int], arr3: List[int]\n",
    "    ) -> List[int]:\n",
    "        cnt = Counter(arr1 + arr2 + arr3)\n",
    "        return [x for x in arr1 if cnt[x] == 3]"
   ]
  },
  {
   "cell_type": "markdown",
   "id": "b20d612b",
   "metadata": {},
   "source": [
    "# Q.2"
   ]
  },
  {
   "cell_type": "code",
   "execution_count": null,
   "id": "27808b9e",
   "metadata": {},
   "outputs": [],
   "source": [
    "class Solution:\n",
    "    def findDifference(self, nums1: List[int], nums2: List[int]) -> List[List[int]]:\n",
    "        s1, s2 = set(nums1), set(nums2)\n",
    "        return [list(s1 - s2), list(s2 - s1)]"
   ]
  },
  {
   "cell_type": "markdown",
   "id": "40146e58",
   "metadata": {},
   "source": [
    "# Q.3"
   ]
  },
  {
   "cell_type": "code",
   "execution_count": null,
   "id": "94f81e0c",
   "metadata": {},
   "outputs": [],
   "source": [
    "class Solution:\n",
    "    def transpose(self, matrix: List[List[int]]) -> List[List[int]]:\n",
    "        return list(zip(*matrix))"
   ]
  },
  {
   "cell_type": "markdown",
   "id": "12964ad9",
   "metadata": {},
   "source": [
    "# Q.4"
   ]
  },
  {
   "cell_type": "code",
   "execution_count": null,
   "id": "1d81fab2",
   "metadata": {},
   "outputs": [],
   "source": [
    "class Solution:\n",
    "    def arrayPairSum(self, nums: List[int]) -> int:\n",
    "        return sum(sorted(nums)[::2])"
   ]
  },
  {
   "cell_type": "markdown",
   "id": "4c65f63d",
   "metadata": {},
   "source": [
    "# Q.5"
   ]
  },
  {
   "cell_type": "code",
   "execution_count": null,
   "id": "b074cef4",
   "metadata": {},
   "outputs": [],
   "source": [
    "class Solution:\n",
    "    def arrangeCoins(self, n: int) -> int:\n",
    "        return int(math.sqrt(2) * math.sqrt(n + 0.125) - 0.5)"
   ]
  },
  {
   "cell_type": "markdown",
   "id": "81c1e43a",
   "metadata": {},
   "source": [
    "# Q.6"
   ]
  },
  {
   "cell_type": "code",
   "execution_count": null,
   "id": "2f3655ae",
   "metadata": {},
   "outputs": [],
   "source": [
    "class Solution:\n",
    "    def sortedSquares(self, nums: List[int]) -> List[int]:\n",
    "        n = len(nums)\n",
    "        res = [0] * n\n",
    "        i, j, k = 0, n - 1, n - 1\n",
    "        while i <= j:\n",
    "            if nums[i] * nums[i] > nums[j] * nums[j]:\n",
    "                res[k] = nums[i] * nums[i]\n",
    "                i += 1\n",
    "            else:\n",
    "                res[k] = nums[j] * nums[j]\n",
    "                j -= 1\n",
    "            k -= 1\n",
    "        return res"
   ]
  },
  {
   "cell_type": "markdown",
   "id": "f38cee92",
   "metadata": {},
   "source": [
    "# Q.7"
   ]
  },
  {
   "cell_type": "code",
   "execution_count": null,
   "id": "604b1521",
   "metadata": {},
   "outputs": [],
   "source": [
    "class Solution:\n",
    "    def maxCount(self, m: int, n: int, ops: List[List[int]]) -> int:\n",
    "        for a, b in ops:\n",
    "            m = min(m, a)\n",
    "            n = min(n, b)\n",
    "        return m * n"
   ]
  },
  {
   "cell_type": "markdown",
   "id": "e55c7181",
   "metadata": {},
   "source": [
    "# Q.8"
   ]
  },
  {
   "cell_type": "code",
   "execution_count": null,
   "id": "24780547",
   "metadata": {},
   "outputs": [],
   "source": [
    "class Solution:\n",
    "    def shuffle(self, nums: List[int], n: int) -> List[int]:\n",
    "        ans = []\n",
    "        for i in range(n):\n",
    "            ans.append(nums[i])\n",
    "            ans.append(nums[i + n])\n",
    "        return ans"
   ]
  }
 ],
 "metadata": {
  "kernelspec": {
   "display_name": "Python 3 (ipykernel)",
   "language": "python",
   "name": "python3"
  },
  "language_info": {
   "codemirror_mode": {
    "name": "ipython",
    "version": 3
   },
   "file_extension": ".py",
   "mimetype": "text/x-python",
   "name": "python",
   "nbconvert_exporter": "python",
   "pygments_lexer": "ipython3",
   "version": "3.9.12"
  }
 },
 "nbformat": 4,
 "nbformat_minor": 5
}
