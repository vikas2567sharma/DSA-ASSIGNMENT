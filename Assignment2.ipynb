{
 "cells": [
  {
   "cell_type": "markdown",
   "id": "15ed93d6",
   "metadata": {},
   "source": [
    "# Q.1"
   ]
  },
  {
   "cell_type": "code",
   "execution_count": null,
   "id": "a96c38d9",
   "metadata": {},
   "outputs": [],
   "source": [
    "class Solution:\n",
    "    def arrayPairSum(self, nums: List[int]) -> int:\n",
    "        return sum(sorted(nums)[::2])"
   ]
  },
  {
   "cell_type": "markdown",
   "id": "e6b9f6df",
   "metadata": {},
   "source": [
    "# Q.2"
   ]
  },
  {
   "cell_type": "code",
   "execution_count": null,
   "id": "2dc91086",
   "metadata": {},
   "outputs": [],
   "source": [
    "class Solution:\n",
    "    def waysToDistribute(self, n: int, k: int) -> int:\n",
    "        mod = 10**9 + 7\n",
    "        f = [[0] * (k + 1) for _ in range(n + 1)]\n",
    "        f[0][0] = 1\n",
    "        for i in range(1, n + 1):\n",
    "            for j in range(1, k + 1):\n",
    "                f[i][j] = (f[i - 1][j] * j + f[i - 1][j - 1]) % mod\n",
    "        return f[n][k]"
   ]
  },
  {
   "cell_type": "markdown",
   "id": "22b3b91e",
   "metadata": {},
   "source": [
    "# Q.3"
   ]
  },
  {
   "cell_type": "code",
   "execution_count": null,
   "id": "a533f3cf",
   "metadata": {},
   "outputs": [],
   "source": [
    "class Solution:\n",
    "    def findLHS(self, nums: List[int]) -> int:\n",
    "        counter = Counter(nums)\n",
    "        ans = 0\n",
    "        for num in nums:\n",
    "            if num + 1 in counter:\n",
    "                ans = max(ans, counter[num] + counter[num + 1])\n",
    "        return ans"
   ]
  },
  {
   "cell_type": "markdown",
   "id": "3cf4ae0d",
   "metadata": {},
   "source": [
    "# Q.4"
   ]
  },
  {
   "cell_type": "code",
   "execution_count": null,
   "id": "d936b084",
   "metadata": {},
   "outputs": [],
   "source": [
    "class Solution:\n",
    "    def canPlaceFlowers(self, flowerbed: List[int], n: int) -> bool:\n",
    "        flowerbed = [0] + flowerbed + [0]\n",
    "        for i in range(1, len(flowerbed) - 1):\n",
    "            if sum(flowerbed[i - 1 : i + 2]) == 0:\n",
    "                flowerbed[i] = 1\n",
    "                n -= 1\n",
    "        return n <= 0"
   ]
  },
  {
   "cell_type": "markdown",
   "id": "ff301b3b",
   "metadata": {},
   "source": [
    "# Q.5"
   ]
  },
  {
   "cell_type": "code",
   "execution_count": null,
   "id": "8ea80425",
   "metadata": {},
   "outputs": [],
   "source": [
    "class Solution:\n",
    "    def maximumProduct(self, nums: List[int]) -> int:\n",
    "        top3 = nlargest(3, nums)\n",
    "        bottom2 = nlargest(2, nums, key=lambda x: -x)\n",
    "        return max(top3[0] * top3[1] * top3[2], top3[0] * bottom2[0] * bottom2[1])"
   ]
  },
  {
   "cell_type": "markdown",
   "id": "5262c843",
   "metadata": {},
   "source": [
    "# Q.6"
   ]
  },
  {
   "cell_type": "code",
   "execution_count": null,
   "id": "4c9ae605",
   "metadata": {},
   "outputs": [],
   "source": [
    "class Solution:\n",
    "    def search(self, nums: List[int], target: int) -> int:\n",
    "        left, right = 0, len(nums) - 1\n",
    "        while left < right:\n",
    "            mid = (left + right) >> 1\n",
    "            if nums[mid] >= target:\n",
    "                right = mid\n",
    "            else:\n",
    "                left = mid + 1\n",
    "        return left if nums[left] == target \n",
    "    else -1"
   ]
  },
  {
   "cell_type": "markdown",
   "id": "83014da4",
   "metadata": {},
   "source": [
    "# Q.7"
   ]
  },
  {
   "cell_type": "code",
   "execution_count": null,
   "id": "1b033989",
   "metadata": {},
   "outputs": [],
   "source": [
    "class Solution:\n",
    "    def isMonotonic(self, nums: List[int]) -> bool:\n",
    "        incr = all(a <= b for a, b in pairwise(nums))\n",
    "        decr = all(a >= b for a, b in pairwise(nums))\n",
    "        return incr or decr"
   ]
  },
  {
   "cell_type": "markdown",
   "id": "819f8b46",
   "metadata": {},
   "source": [
    "# Q.8"
   ]
  },
  {
   "cell_type": "code",
   "execution_count": null,
   "id": "399afceb",
   "metadata": {},
   "outputs": [],
   "source": [
    "class Solution:\n",
    "    def search(self, nums: List[int], target: int) -> int:\n",
    "        left, right = 0, len(nums) - 1\n",
    "        while left < right:\n",
    "            mid = (left + right) >> 1\n",
    "            if nums[mid] >= target:\n",
    "                right = mid\n",
    "            else:\n",
    "                left = mid + 1\n",
    "        return left if nums[left] == target else -1\n"
   ]
  }
 ],
 "metadata": {
  "kernelspec": {
   "display_name": "Python 3 (ipykernel)",
   "language": "python",
   "name": "python3"
  },
  "language_info": {
   "codemirror_mode": {
    "name": "ipython",
    "version": 3
   },
   "file_extension": ".py",
   "mimetype": "text/x-python",
   "name": "python",
   "nbconvert_exporter": "python",
   "pygments_lexer": "ipython3",
   "version": "3.9.12"
  }
 },
 "nbformat": 4,
 "nbformat_minor": 5
}
