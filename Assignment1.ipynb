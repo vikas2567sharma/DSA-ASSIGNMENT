{
 "cells": [
  {
   "cell_type": "markdown",
   "id": "16b32548",
   "metadata": {},
   "source": [
    "# Q.1"
   ]
  },
  {
   "cell_type": "code",
   "execution_count": 5,
   "id": "19c5b70d",
   "metadata": {},
   "outputs": [],
   "source": [
    "class Solution:\n",
    "    def twoSum(self, nums, target):\n",
    "        nums_hash = {}\n",
    "        for i in range(len(nums)):\n",
    "            if target - nums[i] in nums_hash: \n",
    "                return [nums_hash[target - nums[i]], i]\n",
    "            nums_hash[nums[i]] = i\n"
   ]
  },
  {
   "cell_type": "markdown",
   "id": "74ee007f",
   "metadata": {},
   "source": [
    "# Q.2"
   ]
  },
  {
   "cell_type": "code",
   "execution_count": 3,
   "id": "eee07e95",
   "metadata": {},
   "outputs": [],
   "source": [
    "class Solution(object):\n",
    "    def removeElement(self, nums, val):\n",
    "        \"\"\"\n",
    "        :type nums: List[int]\n",
    "        :type val: int\n",
    "        :rtype: int\n",
    "        \"\"\"\n",
    "        count = 0\n",
    "        for i in range(len(nums)):\n",
    "            if nums[i] == val:\n",
    "                continue\n",
    "            nums[count] = nums[i]\n",
    "            count += 1\n",
    "        \n",
    "        return count"
   ]
  },
  {
   "cell_type": "markdown",
   "id": "01a358a0",
   "metadata": {},
   "source": [
    "# Q.3"
   ]
  },
  {
   "cell_type": "code",
   "execution_count": 2,
   "id": "6bc92fa7",
   "metadata": {},
   "outputs": [],
   "source": [
    "class Solution:\n",
    "    def twoSum(self, nums: [int], target: int) -> [int]:\n",
    "        m = {}\n",
    "        for i, x in enumerate(nums):\n",
    "            y = target - x\n",
    "            if y in m:\n",
    "                return [m[y], i]\n",
    "            m[x] = i"
   ]
  },
  {
   "cell_type": "markdown",
   "id": "48ee85f4",
   "metadata": {},
   "source": [
    "# Q.4"
   ]
  },
  {
   "cell_type": "code",
   "execution_count": 8,
   "id": "8bc0ab56",
   "metadata": {},
   "outputs": [
    {
     "name": "stdout",
     "output_type": "stream",
     "text": [
      "[1,2,3] [1, 2, 4]\n",
      "[4,3,2,1] [4, 3, 2, 2]\n"
     ]
    }
   ],
   "source": [
    "def plusOne(digits: [int]) -> [int]:\n",
    "    #transfer the list to string, then int, then +1, then transfer back to string,\n",
    "    #is there a function transfer string back to list ?\n",
    "    num=int(''.join([str(digit) for digit in digits]))+1\n",
    "    mylist = [int(d) for d in list(str(num))]\n",
    "    return mylist\n",
    "\n",
    "print(\"[1,2,3]\",plusOne([1,2,3]))\n",
    "print(\"[4,3,2,1]\",plusOne([4,3,2,1]))"
   ]
  },
  {
   "cell_type": "markdown",
   "id": "1d8989fa",
   "metadata": {},
   "source": [
    "# Q.5"
   ]
  },
  {
   "cell_type": "code",
   "execution_count": 10,
   "id": "ad92aac2",
   "metadata": {},
   "outputs": [
    {
     "name": "stdout",
     "output_type": "stream",
     "text": [
      "pointer1= 0    pointer2= 0 [1, 2, 3, 0, 0, 0] [2, 5, 6]\n",
      "pointer1= 1    pointer2= 0 [1, 2, 3, 0, 0, 0] [2, 5, 6]\n",
      "pointer1= 1    pointer2= 0 [1, 2, 3, 0, 0, 0] [2, 5, 6]\n",
      "pointer1= 2    pointer2= 0 [1, 2, 3, 0, 0, 0] [2, 5, 6]\n",
      "pointer1= 2    pointer2= 0 [1, 2, 3, 0, 0, 0] [2, 5, 6]\n",
      "range= range(5, 2, -1)\n",
      "i= 5\n",
      "i= 4\n",
      "i= 3\n",
      "pointer1= 3    pointer2= 1 [1, 2, 2, 3, 0, 0] [2, 5, 6]\n",
      "pointer1= 3    pointer2= 1 [1, 2, 2, 3, 0, 0] [2, 5, 6]\n",
      "pointer1= 4    pointer2= 1 [1, 2, 2, 3, 0, 0] [2, 5, 6]\n",
      "[1, 2, 2, 3, 5, 6] 3\n"
     ]
    }
   ],
   "source": [
    "def merge_easy(nums1: [int], m: int, nums2: [int], n: int) -> None:\n",
    "    j=0\n",
    "    for i in range(m,m+n):\n",
    "\n",
    "        nums1[i]=nums2[j]\n",
    "        j+=1\n",
    "    nums1.sort()\n",
    "\n",
    "def merge(nums1: [int], m: int, nums2: [int], n: int) -> None:\n",
    "    \"\"\"\n",
    "    Do not return anything, modify nums1 in-place instead.\n",
    "    \"\"\"\n",
    "\n",
    "    # 2 pointer to each of the list, compare the pointed value,\n",
    "    # insert before when first pointed bigger\n",
    "\n",
    "    pointer1=pointer2=0\n",
    "    endpointer1=m\n",
    "\n",
    "    while pointer2<n and pointer1<endpointer1:\n",
    "        print(\"pointer1=\",pointer1,\"   pointer2=\",pointer2,\n",
    "                nums1,nums2)\n",
    "        if nums1[pointer1]>nums2[pointer2]:\n",
    "            # put all the following elements right 1 position\n",
    "            print(\"range=\",range(m+n-1,pointer1,-1))\n",
    "            for i in range(m+n-1,pointer1,-1) :\n",
    "                print(\"i=\",i)\n",
    "                nums1[i]=nums1[i-1]\n",
    "            # current pointed 1 put the value of pointer2\n",
    "            nums1[pointer1]=nums2[pointer2]\n",
    "            pointer1+=1\n",
    "            pointer2+=1\n",
    "            endpointer1+=1\n",
    "        else:\n",
    "            pointer1+=1\n",
    "        print(\"pointer1=\",pointer1,\"   pointer2=\",pointer2,\n",
    "                nums1,nums2)\n",
    "\n",
    "    while pointer2<n and pointer1<m+n:\n",
    "        nums1[pointer1]=nums2[pointer2]\n",
    "        pointer1+=1\n",
    "        pointer2+=1\n",
    "\n",
    "    m=m+n\n",
    "\n",
    "\n",
    "nums1 = [1,2,3,0,0,0]\n",
    "m = 3\n",
    "nums2 = [2,5,6]\n",
    "n = 3\n",
    "merge(nums1,m,nums2,n)\n",
    "print( nums1, m )\n"
   ]
  },
  {
   "cell_type": "markdown",
   "id": "8efd9174",
   "metadata": {},
   "source": [
    "# Q.6"
   ]
  },
  {
   "cell_type": "code",
   "execution_count": null,
   "id": "c12e1be1",
   "metadata": {},
   "outputs": [],
   "source": [
    "class Solution:\n",
    "    def containsDuplicate(self, nums: List[int]) -> bool:\n",
    "        return len(set(nums)) < len(nums)"
   ]
  },
  {
   "cell_type": "markdown",
   "id": "1221c05c",
   "metadata": {},
   "source": [
    "# Q.7"
   ]
  },
  {
   "cell_type": "code",
   "execution_count": null,
   "id": "5f49f09a",
   "metadata": {},
   "outputs": [],
   "source": [
    "class Solution:\n",
    "    def moveZeroes(self, nums: List[int]) -> None:\n",
    "        i = -1\n",
    "        for j, x in enumerate(nums):\n",
    "            if x:\n",
    "                i += 1\n",
    "                nums[i], nums[j] = nums[j], nums[i]"
   ]
  },
  {
   "cell_type": "markdown",
   "id": "fc102c52",
   "metadata": {},
   "source": [
    "# Q.8"
   ]
  },
  {
   "cell_type": "code",
   "execution_count": null,
   "id": "7ed5b733",
   "metadata": {},
   "outputs": [],
   "source": [
    "class Solution:\n",
    "    def findErrorNums(self, nums: List[int]) -> List[int]:\n",
    "        eor, n = 0, len(nums)\n",
    "        for i in range(1, n + 1):\n",
    "            eor ^= i ^ nums[i - 1]\n",
    "        diff = eor & (~eor + 1)\n",
    "        a = 0\n",
    "        for i in range(1, n + 1):\n",
    "            if (nums[i - 1] & diff) == 0:\n",
    "                a ^= nums[i - 1]\n",
    "            if (i & diff) == 0:\n",
    "                a ^= i\n",
    "        b = eor ^ a\n",
    "        for num in nums:\n",
    "            if a == num:\n",
    "                return [a, b]\n",
    "        return [b, a]"
   ]
  }
 ],
 "metadata": {
  "kernelspec": {
   "display_name": "Python 3 (ipykernel)",
   "language": "python",
   "name": "python3"
  },
  "language_info": {
   "codemirror_mode": {
    "name": "ipython",
    "version": 3
   },
   "file_extension": ".py",
   "mimetype": "text/x-python",
   "name": "python",
   "nbconvert_exporter": "python",
   "pygments_lexer": "ipython3",
   "version": "3.9.12"
  }
 },
 "nbformat": 4,
 "nbformat_minor": 5
}
