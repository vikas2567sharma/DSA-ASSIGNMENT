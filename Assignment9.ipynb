{
 "cells": [
  {
   "cell_type": "markdown",
   "id": "2a0df8ce",
   "metadata": {},
   "source": [
    "# Q1"
   ]
  },
  {
   "cell_type": "code",
   "execution_count": null,
   "id": "85441ffb",
   "metadata": {},
   "outputs": [],
   "source": [
    "class Solution:\n",
    "    def isPowerOfTwo(self, n: int) -> bool:\n",
    "        return n > 0 and (n & (n - 1)) == 0"
   ]
  },
  {
   "cell_type": "markdown",
   "id": "af81e528",
   "metadata": {},
   "source": [
    "# Q2"
   ]
  },
  {
   "cell_type": "code",
   "execution_count": null,
   "id": "073ee47c",
   "metadata": {},
   "outputs": [],
   "source": [
    "def findSum(n):\n",
    "    sum = 0\n",
    "    x = 1\n",
    "    while x <= n:\n",
    "        sum = sum + x\n",
    "        x = x + 1\n",
    "    return sum\n",
    " \n",
    " \n",
    "# Driver code\n",
    "n = 5\n",
    "print findSum(n"
   ]
  },
  {
   "cell_type": "markdown",
   "id": "9a418f5e",
   "metadata": {},
   "source": [
    "# Q3"
   ]
  },
  {
   "cell_type": "code",
   "execution_count": null,
   "id": "d9eb3869",
   "metadata": {},
   "outputs": [],
   "source": [
    "def factorial(n):\n",
    "       \n",
    "    if n == 0:\n",
    "        return 1\n",
    "      \n",
    "    return n * factorial(n-1)\n",
    "   \n",
    "# Driver Code\n",
    "num = 5;\n",
    "print(\"Factorial of\", num, \"is\",\n",
    "factorial(num))"
   ]
  },
  {
   "cell_type": "markdown",
   "id": "414c7eb5",
   "metadata": {},
   "source": [
    "# Q4"
   ]
  },
  {
   "cell_type": "code",
   "execution_count": null,
   "id": "5f735fd0",
   "metadata": {},
   "outputs": [],
   "source": [
    "def power(N, P):\n",
    " \n",
    "    # If power is 0 then return 1\n",
    "    # if condition is true\n",
    "    # only then it will enter it,\n",
    "    # otherwise not\n",
    "    if P == 0:\n",
    "        return 1\n",
    " \n",
    "    # Recurrence relation\n",
    "    return (N*power(N, P-1))\n",
    " \n",
    " \n",
    "# Driver code\n",
    "if __name__ == '__main__':\n",
    "    N = 5\n",
    "    P = 2\n",
    " \n",
    "    print(power(N, P))"
   ]
  },
  {
   "cell_type": "markdown",
   "id": "07089bbe",
   "metadata": {},
   "source": [
    "# Q5"
   ]
  },
  {
   "cell_type": "code",
   "execution_count": null,
   "id": "28421489",
   "metadata": {},
   "outputs": [],
   "source": [
    "def findMinRec(A, n):\n",
    "     \n",
    "    # if size = 0 means whole array\n",
    "    # has been traversed\n",
    "    if (n == 1):\n",
    "        return A[0]\n",
    "    return min(A[n - 1], findMinRec(A, n - 1))\n",
    " \n",
    "# Driver Code\n",
    "if __name__ == '__main__':\n",
    "    A = [1, 4, 45, 6, -50, 10, 2]\n",
    "    n = len(A)\n",
    "    print(findMinRec(A, n))"
   ]
  },
  {
   "cell_type": "markdown",
   "id": "60424e52",
   "metadata": {},
   "source": [
    "# Q6"
   ]
  },
  {
   "cell_type": "code",
   "execution_count": null,
   "id": "e4265cf8",
   "metadata": {},
   "outputs": [],
   "source": [
    "def Nth_of_AP(a, d, N) :\n",
    " \n",
    "    # using formula to find the\n",
    "    # Nth term t(n) = a(1) + (n-1)*d\n",
    "    return (a + (N - 1) * d)\n",
    "      \n",
    "  \n",
    "# Driver code\n",
    "a = 2  # starting number\n",
    "d = 1  # Common difference\n",
    "N = 5  # N th term to be find\n",
    "  \n",
    "# Display the output\n",
    "print( \"The \", N ,\"th term of the series is : \",\n",
    "       Nth_of_AP(a, d, N))"
   ]
  },
  {
   "cell_type": "markdown",
   "id": "c40734a2",
   "metadata": {},
   "source": [
    "# Q7"
   ]
  },
  {
   "cell_type": "code",
   "execution_count": null,
   "id": "2449d756",
   "metadata": {},
   "outputs": [],
   "source": [
    "def toString(List):\n",
    "    return ''.join(List)\n",
    " \n",
    " \n",
    " \n",
    "def permute(a, l, r):\n",
    "    if l == r:\n",
    "        print(toString(a))\n",
    "    else:\n",
    "        for i in range(l, r):\n",
    "            a[l], a[i] = a[i], a[l]\n",
    "            permute(a, l+1, r)\n",
    "            a[l], a[i] = a[i], a[l]  # backtrack\n",
    " \n",
    " \n",
    "# Driver code\n",
    "string = \"ABC\"\n",
    "n = len(string)\n",
    "a = list(string)\n",
    " \n",
    "# Function call\n",
    "permute(a, 0, n)"
   ]
  },
  {
   "cell_type": "markdown",
   "id": "223e7cfb",
   "metadata": {},
   "source": [
    "# Q8"
   ]
  },
  {
   "cell_type": "code",
   "execution_count": null,
   "id": "46912f8e",
   "metadata": {},
   "outputs": [],
   "source": [
    "class Solution:\n",
    "    def productExceptSelf(self, nums: List[int]) -> List[int]:\n",
    "        n = len(nums)\n",
    "        ans = [0] * n\n",
    "        left = right = 1\n",
    "        for i, x in enumerate(nums):\n",
    "            ans[i] = left\n",
    "            left *= x\n",
    "        for i in range(n - 1, -1, -1):\n",
    "            ans[i] *= right\n",
    "            right *= nums[i]\n",
    "        return ans"
   ]
  }
 ],
 "metadata": {
  "kernelspec": {
   "display_name": "Python 3 (ipykernel)",
   "language": "python",
   "name": "python3"
  },
  "language_info": {
   "codemirror_mode": {
    "name": "ipython",
    "version": 3
   },
   "file_extension": ".py",
   "mimetype": "text/x-python",
   "name": "python",
   "nbconvert_exporter": "python",
   "pygments_lexer": "ipython3",
   "version": "3.9.12"
  }
 },
 "nbformat": 4,
 "nbformat_minor": 5
}
