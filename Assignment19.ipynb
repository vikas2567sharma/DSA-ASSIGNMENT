{
 "cells": [
  {
   "cell_type": "markdown",
   "id": "e5d69874",
   "metadata": {},
   "source": [
    "# Q1"
   ]
  },
  {
   "cell_type": "code",
   "execution_count": null,
   "id": "19e437cc",
   "metadata": {},
   "outputs": [],
   "source": [
    "# Definition for singly-linked list.\n",
    "# class ListNode:\n",
    "#     def __init__(self, val=0, next=None):\n",
    "#         self.val = val\n",
    "#         self.next = next\n",
    "class Solution:\n",
    "    def mergeKLists(self, lists: List[ListNode]) -> ListNode:\n",
    "        n = len(lists)\n",
    "        if n == 0:\n",
    "            return None\n",
    "        for i in range(n - 1):\n",
    "            lists[i + 1] = self.mergeTwoLists(lists[i], lists[i + 1])\n",
    "        return lists[-1]\n",
    "\n",
    "    def mergeTwoLists(self, l1: ListNode, l2: ListNode) -> ListNode:\n",
    "        dummy = ListNode()\n",
    "        cur = dummy\n",
    "        while l1 and l2:\n",
    "            if l1.val <= l2.val:\n",
    "                cur.next = l1\n",
    "                l1 = l1.next\n",
    "            else:\n",
    "                cur.next = l2\n",
    "                l2 = l2.next\n",
    "            cur = cur.next\n",
    "        cur.next = l1 or l2\n",
    "        return dummy.next"
   ]
  },
  {
   "cell_type": "markdown",
   "id": "816d6d7d",
   "metadata": {},
   "source": [
    "# Q2"
   ]
  },
  {
   "cell_type": "code",
   "execution_count": null,
   "id": "7ee42f0d",
   "metadata": {},
   "outputs": [],
   "source": [
    "class BinaryIndexedTree:\n",
    "    def __init__(self, n):\n",
    "        self.n = n\n",
    "        self.c = [0] * (n + 1)\n",
    "\n",
    "    @staticmethod\n",
    "    def lowbit(x):\n",
    "        return x & -x\n",
    "\n",
    "    def update(self, x, delta):\n",
    "        while x <= self.n:\n",
    "            self.c[x] += delta\n",
    "            x += BinaryIndexedTree.lowbit(x)\n",
    "\n",
    "    def query(self, x):\n",
    "        s = 0\n",
    "        while x > 0:\n",
    "            s += self.c[x]\n",
    "            x -= BinaryIndexedTree.lowbit(x)\n",
    "        return s\n",
    "\n",
    "\n",
    "class Solution:\n",
    "    def countSmaller(self, nums: List[int]) -> List[int]:\n",
    "        alls = sorted(set(nums))\n",
    "        m = {v: i for i, v in enumerate(alls, 1)}\n",
    "        tree = BinaryIndexedTree(len(m))\n",
    "        ans = []\n",
    "        for v in nums[::-1]:\n",
    "            x = m[v]\n",
    "            tree.update(x, 1)\n",
    "            ans.append(tree.query(x - 1))\n",
    "        return ans[::-1]"
   ]
  },
  {
   "cell_type": "markdown",
   "id": "07c92303",
   "metadata": {},
   "source": [
    "# Q3"
   ]
  },
  {
   "cell_type": "code",
   "execution_count": null,
   "id": "e0f6edf2",
   "metadata": {},
   "outputs": [],
   "source": [
    "class Solution:\n",
    "    def sortArray(self, nums: List[int]) -> List[int]:\n",
    "        def quick_sort(l, r):\n",
    "            if l >= r:\n",
    "                return\n",
    "            x = nums[randint(l, r)]\n",
    "            i, j, k = l - 1, r + 1, l\n",
    "            while k < j:\n",
    "                if nums[k] < x:\n",
    "                    nums[i + 1], nums[k] = nums[k], nums[i + 1]\n",
    "                    i, k = i + 1, k + 1\n",
    "                elif nums[k] > x:\n",
    "                    j -= 1\n",
    "                    nums[j], nums[k] = nums[k], nums[j]\n",
    "                else:\n",
    "                    k = k + 1\n",
    "            quick_sort(l, i)\n",
    "            quick_sort(j, r)\n",
    "\n",
    "        quick_sort(0, len(nums) - 1)\n",
    "        return nums"
   ]
  },
  {
   "cell_type": "markdown",
   "id": "42935b50",
   "metadata": {},
   "source": [
    "# Q4"
   ]
  },
  {
   "cell_type": "code",
   "execution_count": 2,
   "id": "edb54142",
   "metadata": {},
   "outputs": [
    {
     "name": "stdout",
     "output_type": "stream",
     "text": [
      "Array after pushing all zeros to end of array:\n",
      "[1, 9, 8, 4, 2, 7, 6, 9, 0, 0, 0, 0]\n"
     ]
    }
   ],
   "source": [
    "def pushZerosToEnd(arr, n):\n",
    "    count = 0 # Count of non-zero elements\n",
    "     \n",
    "    # Traverse the array. If element\n",
    "    # encountered is non-zero, then\n",
    "    # replace the element at index\n",
    "    # 'count' with this element\n",
    "    for i in range(n):\n",
    "        if arr[i] != 0:\n",
    "             \n",
    "            # here count is incremented\n",
    "            arr[count] = arr[i]\n",
    "            count+=1\n",
    "     \n",
    "    # Now all non-zero elements have been\n",
    "    # shifted to front and 'count' is set\n",
    "    # as index of first 0. Make all\n",
    "    # elements 0 from count to end.\n",
    "    while count < n:\n",
    "        arr[count] = 0\n",
    "        count += 1\n",
    "         \n",
    "# Driver code\n",
    "arr = [1, 9, 8, 4, 0, 0, 2, 7, 0, 6, 0, 9]\n",
    "n = len(arr)\n",
    "pushZerosToEnd(arr, n)\n",
    "print(\"Array after pushing all zeros to end of array:\")\n",
    "print(arr)"
   ]
  },
  {
   "cell_type": "markdown",
   "id": "e0d1246b",
   "metadata": {},
   "source": [
    "# Q5"
   ]
  },
  {
   "cell_type": "code",
   "execution_count": 3,
   "id": "b00b73b9",
   "metadata": {},
   "outputs": [
    {
     "name": "stdout",
     "output_type": "stream",
     "text": [
      "Given Array is:\n",
      "[-5, -2, 5, 2, 4, 7, 1, 8, 0, -8]\n",
      "\n",
      "Rearranged array is:\n",
      "[-5, 5, -2, 2, -8, 4, 7, 1, 8, 0]\n"
     ]
    }
   ],
   "source": [
    "def rightRotate(arr, n, outOfPlace, cur):\n",
    "    temp = arr[cur]\n",
    "    for i in range(cur, outOfPlace, -1):\n",
    "        arr[i] = arr[i - 1]\n",
    "    arr[outOfPlace] = temp\n",
    "    return arr\n",
    " \n",
    " \n",
    "def rearrange(arr, n):\n",
    "    outOfPlace = -1\n",
    "    for index in range(n):\n",
    "        if(outOfPlace >= 0):\n",
    " \n",
    "            # if element at outOfPlace place in\n",
    "            # negative and if element at index\n",
    "            # is positive we can rotate the\n",
    "            # array to right or if element\n",
    "            # at outOfPlace place in positive and\n",
    "            # if element at index is negative we\n",
    "            # can rotate the array to right\n",
    "            if((arr[index] >= 0 and arr[outOfPlace] < 0) or\n",
    "               (arr[index] < 0 and arr[outOfPlace] >= 0)):\n",
    "                arr = rightRotate(arr, n, outOfPlace, index)\n",
    "                if(index-outOfPlace > 2):\n",
    "                    outOfPlace += 2\n",
    "                else:\n",
    "                    outOfPlace = - 1\n",
    " \n",
    "        if(outOfPlace == -1):\n",
    " \n",
    "            # conditions for A[index] to\n",
    "            # be in out of place\n",
    "            if((arr[index] >= 0 and index % 2 == 0) or\n",
    "               (arr[index] < 0 and index % 2 == 1)):\n",
    "                outOfPlace = index\n",
    "    return arr\n",
    " \n",
    " \n",
    "# Driver Code\n",
    "arr = [-5, -2, 5, 2, 4,\n",
    "       7, 1, 8, 0, -8]\n",
    " \n",
    "print(\"Given Array is:\")\n",
    "print(arr)\n",
    " \n",
    "print(\"\\nRearranged array is:\")\n",
    "print(rearrange(arr, len(arr)))"
   ]
  },
  {
   "cell_type": "markdown",
   "id": "6456a0eb",
   "metadata": {},
   "source": [
    "# Q6"
   ]
  },
  {
   "cell_type": "code",
   "execution_count": 4,
   "id": "61799efa",
   "metadata": {},
   "outputs": [
    {
     "name": "stdout",
     "output_type": "stream",
     "text": [
      "Array after merging\n",
      "1 2 3 4 5 6 7 8 "
     ]
    }
   ],
   "source": [
    "def mergeArrays(arr1, arr2, n1, n2, arr3):\n",
    "    i = 0\n",
    "    j = 0\n",
    "    k = 0\n",
    " \n",
    "    # traverse the arr1 and insert its element in arr3\n",
    "    while(i < n1):\n",
    "        arr3[k] = arr1[i]\n",
    "        k += 1\n",
    "        i += 1\n",
    " \n",
    "    # now traverse arr2 and insert in arr3\n",
    "    while(j < n2):\n",
    "        arr3[k] = arr2[j]\n",
    "        k += 1\n",
    "        j += 1\n",
    " \n",
    "    # sort the whole array arr3\n",
    "    arr3.sort()\n",
    " \n",
    " \n",
    "# Driver code\n",
    "if __name__ == '__main__':\n",
    "    arr1 = [1, 3, 5, 7]\n",
    "    n1 = len(arr1)\n",
    " \n",
    "    arr2 = [2, 4, 6, 8]\n",
    "    n2 = len(arr2)\n",
    " \n",
    "    arr3 = [0 for i in range(n1+n2)]\n",
    "    mergeArrays(arr1, arr2, n1, n2, arr3)\n",
    " \n",
    "    print(\"Array after merging\")\n",
    "    for i in range(n1 + n2):\n",
    "        print(arr3[i], end=\" \")"
   ]
  },
  {
   "cell_type": "markdown",
   "id": "b1545fcb",
   "metadata": {},
   "source": [
    "# Q7"
   ]
  },
  {
   "cell_type": "code",
   "execution_count": null,
   "id": "57496a18",
   "metadata": {},
   "outputs": [],
   "source": [
    "class Solution:\n",
    "    def intersection(self, nums1: List[int], nums2: List[int]) -> List[int]:\n",
    "        s = set(nums1)\n",
    "        res = set()\n",
    "        for num in nums2:\n",
    "            if num in s:\n",
    "                res.add(num)\n",
    "        return list(res)"
   ]
  },
  {
   "cell_type": "markdown",
   "id": "ee54c45f",
   "metadata": {},
   "source": [
    "# Q8"
   ]
  },
  {
   "cell_type": "code",
   "execution_count": null,
   "id": "10fbbf57",
   "metadata": {},
   "outputs": [],
   "source": [
    "class Solution:\n",
    "    def intersect(self, nums1: List[int], nums2: List[int]) -> List[int]:\n",
    "        counter = Counter(nums1)\n",
    "        res = []\n",
    "        for num in nums2:\n",
    "            if counter[num] > 0:\n",
    "                res.append(num)\n",
    "                counter[num] -= 1\n",
    "        return res"
   ]
  }
 ],
 "metadata": {
  "kernelspec": {
   "display_name": "Python 3 (ipykernel)",
   "language": "python",
   "name": "python3"
  },
  "language_info": {
   "codemirror_mode": {
    "name": "ipython",
    "version": 3
   },
   "file_extension": ".py",
   "mimetype": "text/x-python",
   "name": "python",
   "nbconvert_exporter": "python",
   "pygments_lexer": "ipython3",
   "version": "3.9.12"
  }
 },
 "nbformat": 4,
 "nbformat_minor": 5
}
