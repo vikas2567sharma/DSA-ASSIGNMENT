{
 "cells": [
  {
   "cell_type": "markdown",
   "id": "08c80cbb",
   "metadata": {},
   "source": [
    "# Q.1"
   ]
  },
  {
   "cell_type": "code",
   "execution_count": null,
   "id": "2e3e1604",
   "metadata": {},
   "outputs": [],
   "source": [
    "class Solution:\n",
    "    def threeSumClosest(self, nums: List[int], target: int) -> int:\n",
    "        nums.sort()\n",
    "        n = len(nums)\n",
    "        ans = inf\n",
    "        for i, v in enumerate(nums):\n",
    "            j, k = i + 1, n - 1\n",
    "            while j < k:\n",
    "                t = v + nums[j] + nums[k]\n",
    "                if t == target:\n",
    "                    return t\n",
    "                if abs(t - target) < abs(ans - target):\n",
    "                    ans = t\n",
    "                if t > target:\n",
    "                    k -= 1\n",
    "                else:\n",
    "                    j += 1\n",
    "        return ans"
   ]
  },
  {
   "cell_type": "markdown",
   "id": "c97ea66f",
   "metadata": {},
   "source": [
    "# Q.2"
   ]
  },
  {
   "cell_type": "code",
   "execution_count": null,
   "id": "2a810d33",
   "metadata": {},
   "outputs": [],
   "source": [
    "class Solution:\n",
    "    def fourSum(self, nums: List[int], target: int) -> List[List[int]]:\n",
    "        n, res = len(nums), []\n",
    "        if n < 4:\n",
    "            return []\n",
    "        nums.sort()\n",
    "        for i in range(n - 3):\n",
    "            if i > 0 and nums[i] == nums[i - 1]:\n",
    "                continue\n",
    "            for j in range(i + 1, n - 2):\n",
    "                if j > i + 1 and nums[j] == nums[j - 1]:\n",
    "                    continue\n",
    "                k, l = j + 1, n - 1\n",
    "                while k < l:\n",
    "                    if nums[i] + nums[j] + nums[k] + nums[l] == target:\n",
    "                        res.append([nums[i], nums[j], nums[k], nums[l]])\n",
    "                        k += 1\n",
    "                        l -= 1\n",
    "                        while k < n and nums[k] == nums[k - 1]:\n",
    "                            k += 1\n",
    "                        while l > j and nums[l] == nums[l + 1]:\n",
    "                            l -= 1\n",
    "                    elif nums[i] + nums[j] + nums[k] + nums[l] < target:\n",
    "                        k += 1\n",
    "                    else:\n",
    "                        l -= 1\n",
    "        return res"
   ]
  },
  {
   "cell_type": "markdown",
   "id": "bdd176fc",
   "metadata": {},
   "source": [
    "# Q.3"
   ]
  },
  {
   "cell_type": "code",
   "execution_count": null,
   "id": "235d0ca7",
   "metadata": {},
   "outputs": [],
   "source": [
    "class Solution:\n",
    "    def nextPermutation(self, nums: List[int]) -> None:\n",
    "        n = len(nums)\n",
    "        i = next((i for i in range(n - 2, -1, -1) if nums[i] < nums[i + 1]), -1)\n",
    "        if ~i:\n",
    "            j = next((j for j in range(n - 1, i, -1) if nums[j] > nums[i]))\n",
    "            nums[i], nums[j] = nums[j], nums[i]\n",
    "        nums[i + 1 :] = nums[i + 1 :][::-1]"
   ]
  },
  {
   "cell_type": "markdown",
   "id": "20dd1a3e",
   "metadata": {},
   "source": [
    "# Q.4"
   ]
  },
  {
   "cell_type": "code",
   "execution_count": null,
   "id": "6c3ae433",
   "metadata": {},
   "outputs": [],
   "source": [
    "class Solution:\n",
    "    def searchInsert(self, nums: List[int], target: int) -> int:\n",
    "        left, right = 0, len(nums)\n",
    "        while left < right:\n",
    "            mid = (left + right) >> 1\n",
    "            if nums[mid] >= target:\n",
    "                right = mid\n",
    "            else:\n",
    "                left = mid + 1\n",
    "        return left"
   ]
  },
  {
   "cell_type": "markdown",
   "id": "7abc1576",
   "metadata": {},
   "source": [
    "# Q.5"
   ]
  },
  {
   "cell_type": "code",
   "execution_count": null,
   "id": "6751750d",
   "metadata": {},
   "outputs": [],
   "source": [
    "class Solution:\n",
    "    def plusOne(self, digits: List[int]) -> List[int]:\n",
    "        n = len(digits)\n",
    "        for i in range(n - 1, -1, -1):\n",
    "            digits[i] += 1\n",
    "            digits[i] %= 10\n",
    "            if digits[i] != 0:\n",
    "                return digits\n",
    "        return [1] + digits"
   ]
  },
  {
   "cell_type": "markdown",
   "id": "6752d5f3",
   "metadata": {},
   "source": [
    "# Q.6"
   ]
  },
  {
   "cell_type": "code",
   "execution_count": null,
   "id": "d5af732b",
   "metadata": {},
   "outputs": [],
   "source": [
    "class Solution:\n",
    "    def singleNumber(self, nums: List[int]) -> int:\n",
    "        return reduce(xor, nums)"
   ]
  },
  {
   "cell_type": "markdown",
   "id": "c67af561",
   "metadata": {},
   "source": [
    "# Q.7"
   ]
  },
  {
   "cell_type": "code",
   "execution_count": null,
   "id": "edfe573b",
   "metadata": {},
   "outputs": [],
   "source": [
    "class Solution:\n",
    "    def summaryRanges(self, nums: List[int]) -> List[str]:\n",
    "        def f(i: int, j: int) -> str:\n",
    "            return str(nums[i]) if i == j else f'{nums[i]}->{nums[j]}'\n",
    "\n",
    "        i = 0\n",
    "        n = len(nums)\n",
    "        ans = []\n",
    "        while i < n:\n",
    "            j = i\n",
    "            while j + 1 < n and nums[j + 1] == nums[j] + 1:\n",
    "                j += 1\n",
    "            ans.append(f(i, j))\n",
    "            i = j + 1\n",
    "        return ans"
   ]
  },
  {
   "cell_type": "markdown",
   "id": "042ae098",
   "metadata": {},
   "source": [
    "# Q.8"
   ]
  },
  {
   "cell_type": "code",
   "execution_count": null,
   "id": "26701c99",
   "metadata": {},
   "outputs": [],
   "source": [
    "class Solution:\n",
    "    def canAttendMeetings(self, intervals: List[List[int]]) -> bool:\n",
    "        intervals.sort()\n",
    "        return all(a[1] <= b[0] for a, b in pairwise(intervals))"
   ]
  }
 ],
 "metadata": {
  "kernelspec": {
   "display_name": "Python 3 (ipykernel)",
   "language": "python",
   "name": "python3"
  },
  "language_info": {
   "codemirror_mode": {
    "name": "ipython",
    "version": 3
   },
   "file_extension": ".py",
   "mimetype": "text/x-python",
   "name": "python",
   "nbconvert_exporter": "python",
   "pygments_lexer": "ipython3",
   "version": "3.9.12"
  }
 },
 "nbformat": 4,
 "nbformat_minor": 5
}
