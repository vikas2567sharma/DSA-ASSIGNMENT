{
 "cells": [
  {
   "cell_type": "markdown",
   "id": "d224958b",
   "metadata": {},
   "source": [
    "# Q1"
   ]
  },
  {
   "cell_type": "code",
   "execution_count": 6,
   "id": "e50ac2be",
   "metadata": {},
   "outputs": [],
   "source": [
    "def firstNotRepeatingCharacter(s):\n",
    "    for c in s:\n",
    "        if s.index(c) == s.rindex(c):\n",
    "            return c\n",
    "    return '-1'"
   ]
  },
  {
   "cell_type": "markdown",
   "id": "c13a2cfa",
   "metadata": {},
   "source": [
    "# Q2"
   ]
  },
  {
   "cell_type": "code",
   "execution_count": null,
   "id": "dcfdecf4",
   "metadata": {},
   "outputs": [],
   "source": [
    "class Solution:\n",
    "    def maxSubarraySumCircular(self, nums: List[int]) -> int:\n",
    "        s1 = s2 = f1 = f2 = nums[0]\n",
    "        for num in nums[1:]:\n",
    "            f1 = num + max(f1, 0)\n",
    "            f2 = num + min(f2, 0)\n",
    "            s1 = max(s1, f1)\n",
    "            s2 = min(s2, f2)\n",
    "        return s1 if s1 <= 0 else max(s1, sum(nums) - s2)"
   ]
  },
  {
   "cell_type": "markdown",
   "id": "d088ee02",
   "metadata": {},
   "source": [
    "# Q3"
   ]
  },
  {
   "cell_type": "code",
   "execution_count": null,
   "id": "048425fd",
   "metadata": {},
   "outputs": [],
   "source": [
    "class Solution:\n",
    "    def countStudents(self, students: List[int], sandwiches: List[int]) -> int:\n",
    "        cnt = Counter(students)\n",
    "        for v in sandwiches:\n",
    "            if cnt[v] == 0:\n",
    "                return cnt[v ^ 1]\n",
    "            cnt[v] -= 1\n",
    "        return 0"
   ]
  },
  {
   "cell_type": "markdown",
   "id": "c04dabea",
   "metadata": {},
   "source": [
    "# Q4"
   ]
  },
  {
   "cell_type": "code",
   "execution_count": null,
   "id": "c72f2fc2",
   "metadata": {},
   "outputs": [],
   "source": [
    "class RecentCounter:\n",
    "    def __init__(self):\n",
    "        self.q = deque()\n",
    "\n",
    "    def ping(self, t: int) -> int:\n",
    "        self.q.append(t)\n",
    "        while self.q[0] < t - 3000:\n",
    "            self.q.popleft()\n",
    "        return len(self.q)\n"
   ]
  },
  {
   "cell_type": "markdown",
   "id": "c488e8fb",
   "metadata": {},
   "source": [
    "# Q5"
   ]
  },
  {
   "cell_type": "code",
   "execution_count": null,
   "id": "65d3f3de",
   "metadata": {},
   "outputs": [],
   "source": [
    "class Solution:\n",
    "    def findTheWinner(self, n: int, k: int) -> int:\n",
    "        if n == 1:\n",
    "            return 1\n",
    "        ans = (k + self.findTheWinner(n - 1, k)) % n\n",
    "        return n if ans == 0 else ans"
   ]
  },
  {
   "cell_type": "markdown",
   "id": "d59da041",
   "metadata": {},
   "source": [
    "# Q6"
   ]
  },
  {
   "cell_type": "code",
   "execution_count": null,
   "id": "fed04477",
   "metadata": {},
   "outputs": [],
   "source": [
    "class Solution:\n",
    "    def deckRevealedIncreasing(self, deck: List[int]) -> List[int]:\n",
    "        q = deque()\n",
    "        for v in sorted(deck, reverse=True):\n",
    "            if q:\n",
    "                q.appendleft(q.pop())\n",
    "            q.appendleft(v)\n",
    "        return list(q)"
   ]
  },
  {
   "cell_type": "markdown",
   "id": "8031d7e3",
   "metadata": {},
   "source": [
    "# Q7"
   ]
  },
  {
   "cell_type": "code",
   "execution_count": null,
   "id": "54ff4831",
   "metadata": {},
   "outputs": [],
   "source": [
    "class FrontMiddleBackQueue:\n",
    "    def __init__(self):\n",
    "        self.q1 = deque()\n",
    "        self.q2 = deque()\n",
    "\n",
    "    def pushFront(self, val: int) -> None:\n",
    "        self.q1.appendleft(val)\n",
    "        self.rebalance()\n",
    "\n",
    "    def pushMiddle(self, val: int) -> None:\n",
    "        self.q1.append(val)\n",
    "        self.rebalance()\n",
    "\n",
    "    def pushBack(self, val: int) -> None:\n",
    "        self.q2.append(val)\n",
    "        self.rebalance()\n",
    "\n",
    "    def popFront(self) -> int:\n",
    "        if not self.q1 and not self.q2:\n",
    "            return -1\n",
    "        if self.q1:\n",
    "            val = self.q1.popleft()\n",
    "        else:\n",
    "            val = self.q2.popleft()\n",
    "        self.rebalance()\n",
    "        return val\n",
    "\n",
    "    def popMiddle(self) -> int:\n",
    "        if not self.q1 and not self.q2:\n",
    "            return -1\n",
    "        if len(self.q1) == len(self.q2):\n",
    "            val = self.q1.pop()\n",
    "        else:\n",
    "            val = self.q2.popleft()\n",
    "        self.rebalance()\n",
    "        return val\n",
    "\n",
    "    def popBack(self) -> int:\n",
    "        if not self.q2:\n",
    "            return -1\n",
    "        val = self.q2.pop()\n",
    "        self.rebalance()\n",
    "        return val\n",
    "\n",
    "    def rebalance(self):\n",
    "        if len(self.q1) > len(self.q2):\n",
    "            self.q2.appendleft(self.q1.pop())\n",
    "        if len(self.q2) > len(self.q1) + 1:\n",
    "            self.q1.append(self.q2.popleft())\n",
    "\n",
    "\n",
    "# Your FrontMiddleBackQueue object will be instantiated and called as such:\n",
    "# obj = FrontMiddleBackQueue()\n",
    "# obj.pushFront(val)\n",
    "# obj.pushMiddle(val)\n",
    "# obj.pushBack(val)\n",
    "# param_4 = obj.popFront()\n",
    "# param_5 = obj.popMiddle()\n",
    "# param_6 = obj.popBack()"
   ]
  },
  {
   "cell_type": "markdown",
   "id": "92ccc298",
   "metadata": {},
   "source": [
    "# Q8"
   ]
  },
  {
   "cell_type": "code",
   "execution_count": null,
   "id": "10548c85",
   "metadata": {},
   "outputs": [],
   "source": [
    "class DataStream:\n",
    "    def __init__(self, value: int, k: int):\n",
    "        self.val, self.k = value, k\n",
    "        self.cnt = 0\n",
    "\n",
    "    def consec(self, num: int) -> bool:\n",
    "        self.cnt = 0 if num != self.val else self.cnt + 1\n",
    "        return self.cnt >= self.k\n",
    "\n",
    "\n",
    "# Your DataStream object will be instantiated and called as such:\n",
    "# obj = DataStream(value, k)\n",
    "# param_1 = obj.consec(num)"
   ]
  }
 ],
 "metadata": {
  "kernelspec": {
   "display_name": "Python 3 (ipykernel)",
   "language": "python",
   "name": "python3"
  },
  "language_info": {
   "codemirror_mode": {
    "name": "ipython",
    "version": 3
   },
   "file_extension": ".py",
   "mimetype": "text/x-python",
   "name": "python",
   "nbconvert_exporter": "python",
   "pygments_lexer": "ipython3",
   "version": "3.9.12"
  }
 },
 "nbformat": 4,
 "nbformat_minor": 5
}
