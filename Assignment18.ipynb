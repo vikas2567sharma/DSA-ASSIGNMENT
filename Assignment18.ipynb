{
 "cells": [
  {
   "cell_type": "markdown",
   "id": "c77c1053",
   "metadata": {},
   "source": [
    "# Q1"
   ]
  },
  {
   "cell_type": "code",
   "execution_count": null,
   "id": "c33446f6",
   "metadata": {},
   "outputs": [],
   "source": [
    "class Solution:\n",
    "    def merge(self, intervals: List[List[int]]) -> List[List[int]]:\n",
    "        intervals.sort()\n",
    "        ans = []\n",
    "        st, ed = intervals[0]\n",
    "        for s, e in intervals[1:]:\n",
    "            if ed < s:\n",
    "                ans.append([st, ed])\n",
    "                st, ed = s, e\n",
    "            else:\n",
    "                ed = max(ed, e)\n",
    "        ans.append([st, ed])\n",
    "        return ans"
   ]
  },
  {
   "cell_type": "markdown",
   "id": "90b3f286",
   "metadata": {},
   "source": [
    "# Q2"
   ]
  },
  {
   "cell_type": "code",
   "execution_count": null,
   "id": "80e92d95",
   "metadata": {},
   "outputs": [],
   "source": [
    "class Solution:\n",
    "    def sortColors(self, nums: List[int]) -> None:\n",
    "        i, j, k = -1, len(nums), 0\n",
    "        while k < j:\n",
    "            if nums[k] == 0:\n",
    "                i += 1\n",
    "                nums[i], nums[k] = nums[k], nums[i]\n",
    "                k += 1\n",
    "            elif nums[k] == 2:\n",
    "                j -= 1\n",
    "                nums[j], nums[k] = nums[k], nums[j]\n",
    "            else:\n",
    "                k += 1"
   ]
  },
  {
   "cell_type": "markdown",
   "id": "b153ca76",
   "metadata": {},
   "source": [
    "# Q3"
   ]
  },
  {
   "cell_type": "code",
   "execution_count": null,
   "id": "ac830986",
   "metadata": {},
   "outputs": [],
   "source": [
    "class Solution:\n",
    "    def firstBadVersion(self, n):\n",
    "        \"\"\"\n",
    "        :type n: int\n",
    "        :rtype: int\n",
    "        \"\"\"\n",
    "        left, right = 1, n\n",
    "        while left < right:\n",
    "            mid = (left + right) >> 1\n",
    "            if isBadVersion(mid):\n",
    "                right = mid\n",
    "            else:\n",
    "                left = mid + 1\n",
    "        return left"
   ]
  },
  {
   "cell_type": "markdown",
   "id": "803908bd",
   "metadata": {},
   "source": [
    "# Q4"
   ]
  },
  {
   "cell_type": "code",
   "execution_count": null,
   "id": "750b3677",
   "metadata": {},
   "outputs": [],
   "source": [
    "class Solution:\n",
    "    def maximumGap(self, nums: List[int]) -> int:\n",
    "        n = len(nums)\n",
    "        if n < 2:\n",
    "            return 0\n",
    "        mi, mx = min(nums), max(nums)\n",
    "        bucket_size = max(1, (mx - mi) // (n - 1))\n",
    "        bucket_count = (mx - mi) // bucket_size + 1\n",
    "        buckets = [[inf, -inf] for _ in range(bucket_count)]\n",
    "        for v in nums:\n",
    "            i = (v - mi) // bucket_size\n",
    "            buckets[i][0] = min(buckets[i][0], v)\n",
    "            buckets[i][1] = max(buckets[i][1], v)\n",
    "        ans = 0\n",
    "        prev = inf\n",
    "        for curmin, curmax in buckets:\n",
    "            if curmin > curmax:\n",
    "                continue\n",
    "            ans = max(ans, curmin - prev)\n",
    "            prev = curmax\n",
    "        return ans"
   ]
  },
  {
   "cell_type": "markdown",
   "id": "1cca2b7f",
   "metadata": {},
   "source": [
    "# Q5"
   ]
  },
  {
   "cell_type": "code",
   "execution_count": null,
   "id": "39f59b18",
   "metadata": {},
   "outputs": [],
   "source": [
    "class Solution:\n",
    "    def containsDuplicate(self, nums: List[int]) -> bool:\n",
    "        return len(set(nums)) < len(nums)"
   ]
  },
  {
   "cell_type": "markdown",
   "id": "eda719f4",
   "metadata": {},
   "source": [
    "# Q6"
   ]
  },
  {
   "cell_type": "code",
   "execution_count": null,
   "id": "bae62166",
   "metadata": {},
   "outputs": [],
   "source": [
    "class Solution:\n",
    "    def findMinArrowShots(self, points: List[List[int]]) -> int:\n",
    "        ans, last = 0, -inf\n",
    "        for a, b in sorted(points, key=lambda x: x[1]):\n",
    "            if a > last:\n",
    "                ans += 1\n",
    "                last = b\n",
    "        return ans"
   ]
  },
  {
   "cell_type": "markdown",
   "id": "8e70ad9e",
   "metadata": {},
   "source": [
    "# Q7"
   ]
  },
  {
   "cell_type": "code",
   "execution_count": null,
   "id": "9345e014",
   "metadata": {},
   "outputs": [],
   "source": [
    "class BinaryIndexedTree:\n",
    "    def __init__(self, n: int):\n",
    "        self.n = n\n",
    "        self.c = [0] * (n + 1)\n",
    "\n",
    "    def update(self, x: int, v: int):\n",
    "        while x <= self.n:\n",
    "            self.c[x] = max(self.c[x], v)\n",
    "            x += x & -x\n",
    "\n",
    "    def query(self, x: int) -> int:\n",
    "        mx = 0\n",
    "        while x:\n",
    "            mx = max(mx, self.c[x])\n",
    "            x -= x & -x\n",
    "        return mx\n",
    "\n",
    "\n",
    "class Solution:\n",
    "    def lengthOfLIS(self, nums: List[int]) -> int:\n",
    "        s = sorted(set(nums))\n",
    "        tree = BinaryIndexedTree(len(s))\n",
    "        ans = 1\n",
    "        for x in nums:\n",
    "            x = bisect_left(s, x) + 1\n",
    "            t = tree.query(x - 1) + 1\n",
    "            ans = max(ans, t)\n",
    "            tree.update(x, t)\n",
    "        return ans"
   ]
  },
  {
   "cell_type": "markdown",
   "id": "e80feb81",
   "metadata": {},
   "source": [
    "# Q8"
   ]
  },
  {
   "cell_type": "code",
   "execution_count": null,
   "id": "bba70f94",
   "metadata": {},
   "outputs": [],
   "source": [
    "class Solution:\n",
    "    def find132pattern(self, nums: List[int]) -> bool:\n",
    "        vk = -inf\n",
    "        stk = []\n",
    "        for x in nums[::-1]:\n",
    "            if x < vk:\n",
    "                return True\n",
    "            while stk and stk[-1] < x:\n",
    "                vk = stk.pop()\n",
    "            stk.append(x)\n",
    "        return False"
   ]
  }
 ],
 "metadata": {
  "kernelspec": {
   "display_name": "Python 3 (ipykernel)",
   "language": "python",
   "name": "python3"
  },
  "language_info": {
   "codemirror_mode": {
    "name": "ipython",
    "version": 3
   },
   "file_extension": ".py",
   "mimetype": "text/x-python",
   "name": "python",
   "nbconvert_exporter": "python",
   "pygments_lexer": "ipython3",
   "version": "3.9.12"
  }
 },
 "nbformat": 4,
 "nbformat_minor": 5
}
