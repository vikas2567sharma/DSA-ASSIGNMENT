{
 "cells": [
  {
   "cell_type": "markdown",
   "id": "0f490588",
   "metadata": {},
   "source": [
    "# Q1"
   ]
  },
  {
   "cell_type": "code",
   "execution_count": 1,
   "id": "4042e5b3",
   "metadata": {},
   "outputs": [
    {
     "name": "stdout",
     "output_type": "stream",
     "text": [
      "3\n"
     ]
    }
   ],
   "source": [
    "def findDepthRec(tree, n, index) :\n",
    " \n",
    "    if (index[0] >= n or tree[index[0]] == 'l'):\n",
    "        return 0\n",
    " \n",
    "    # calc height of left subtree (In preorder\n",
    "    # left subtree is processed before right)\n",
    "    index[0] += 1\n",
    "    left = findDepthRec(tree, n, index)\n",
    " \n",
    "    # calc height of right subtree\n",
    "    index[0] += 1\n",
    "    right = findDepthRec(tree, n, index)\n",
    "    return (max(left, right) + 1)\n",
    " \n",
    "# Wrapper over findDepthRec()\n",
    "def findDepth(tree, n) :\n",
    " \n",
    "    index = [0]\n",
    "    return findDepthRec(tree, n, index)\n",
    " \n",
    "         \n",
    "# Driver program to test above functions\n",
    "if __name__ == '__main__':\n",
    "    tree= \"nlnnlll\"\n",
    "    n = len(tree)\n",
    " \n",
    "    print(findDepth(tree, n))"
   ]
  },
  {
   "cell_type": "markdown",
   "id": "fd96a0e6",
   "metadata": {},
   "source": [
    "# Q2"
   ]
  },
  {
   "cell_type": "code",
   "execution_count": 2,
   "id": "a5362eb3",
   "metadata": {},
   "outputs": [
    {
     "name": "stdout",
     "output_type": "stream",
     "text": [
      "10 2 7 14 "
     ]
    }
   ],
   "source": [
    "class Node:\n",
    " \n",
    "    # Constructor to create a new node\n",
    "    def __init__(self, data):\n",
    "        self.data = data\n",
    "        self.left = None\n",
    "        self.right = None\n",
    " \n",
    " \n",
    "# Recursive function print left view of a binary tree\n",
    "def leftViewUtil(root, level, max_level):\n",
    " \n",
    "    # Base Case\n",
    "    if root is None:\n",
    "        return\n",
    " \n",
    "    # If this is the first node of its level\n",
    "    if (max_level[0] < level):\n",
    "        print (root.data, end = \" \")\n",
    "        max_level[0] = level\n",
    " \n",
    "    # Recur for left and right subtree\n",
    "    leftViewUtil(root.left, level + 1, max_level)\n",
    "    leftViewUtil(root.right, level + 1, max_level)\n",
    " \n",
    " \n",
    "# A wrapper over leftViewUtil()\n",
    "def leftView(root):\n",
    "    max_level = [0]\n",
    "    leftViewUtil(root, 1, max_level)\n",
    " \n",
    " \n",
    "# Driver program to test above function\n",
    "if __name__ == '__main__':\n",
    "    root = Node(10)\n",
    "    root.left = Node(2)\n",
    "    root.right = Node(3)\n",
    "    root.left.left = Node(7)\n",
    "    root.left.right = Node(8)\n",
    "    root.right.right = Node(15)\n",
    "    root.right.left = Node(12)\n",
    "    root.right.right.left = Node(14)\n",
    "     \n",
    "    leftView(root)"
   ]
  },
  {
   "cell_type": "markdown",
   "id": "8d047426",
   "metadata": {},
   "source": [
    "# Q3"
   ]
  },
  {
   "cell_type": "code",
   "execution_count": 4,
   "id": "80364812",
   "metadata": {},
   "outputs": [
    {
     "name": "stdout",
     "output_type": "stream",
     "text": [
      "1   \n",
      "3   \n",
      "7   \n",
      "8   \n"
     ]
    }
   ],
   "source": [
    "class Node:\n",
    "    # A constructor to create a new Binary tree Node\n",
    "    def __init__(self, item):\n",
    "        self.data = item\n",
    "        self.left = None\n",
    "        self.right = None\n",
    " \n",
    "# Recursive function to print right view of Binary Tree\n",
    "# used max_level as reference list ..only max_level[0]\n",
    "# is helpful to us\n",
    " \n",
    " \n",
    "def rightViewUtil(root, level, max_level):\n",
    " \n",
    "    # Base Case\n",
    "    if root is None:\n",
    "        return\n",
    " \n",
    "    # If this is the last node of its level\n",
    "    if (max_level[0] < level):\n",
    "        print (\"%d   \" % (root.data)),\n",
    "        max_level[0] = level\n",
    " \n",
    "    # Recur for right subtree first, then left subtree\n",
    "    rightViewUtil(root.right, level+1, max_level)\n",
    "    rightViewUtil(root.left, level+1, max_level)\n",
    " \n",
    " \n",
    "def rightView(root):\n",
    "    max_level = [0]\n",
    "    rightViewUtil(root, 1, max_level)\n",
    " \n",
    " \n",
    "# Driver program to test above function\n",
    "root = Node(1)\n",
    "root.left = Node(2)\n",
    "root.right = Node(3)\n",
    "root.left.left = Node(4)\n",
    "root.left.right = Node(5)\n",
    "root.right.left = Node(6)\n",
    "root.right.right = Node(7)\n",
    "root.right.left.right = Node(8)\n",
    " \n",
    "rightView(root)"
   ]
  },
  {
   "cell_type": "markdown",
   "id": "cb98b184",
   "metadata": {},
   "source": [
    "# Q4"
   ]
  },
  {
   "cell_type": "code",
   "execution_count": 9,
   "id": "34d6a2c9",
   "metadata": {},
   "outputs": [
    {
     "name": "stdout",
     "output_type": "stream",
     "text": [
      "Bottom view of the given binary tree :\n",
      "5 10 4 14 25 "
     ]
    }
   ],
   "source": [
    "class Node:\n",
    "     \n",
    "    def __init__(self, key = None,\n",
    "                      left = None,\n",
    "                     right = None):\n",
    "                          \n",
    "        self.data = key\n",
    "        self.left = left\n",
    "        self.right = right\n",
    "         \n",
    "def printBottomView(root):\n",
    "     \n",
    "      # Create a dictionary where\n",
    "    # key -> relative horizontal distance\n",
    "    # of the node from root node and\n",
    "    # value -> pair containing node's\n",
    "    # value and its level\n",
    "    d = dict()\n",
    "     \n",
    "    printBottomViewUtil(root, d, 0, 0)\n",
    "     \n",
    "    # Traverse the dictionary in sorted\n",
    "    # order of their keys and print\n",
    "    # the bottom view\n",
    "    for i in sorted(d.keys()):\n",
    "        print(d[i][0], end = \" \")\n",
    " \n",
    "def printBottomViewUtil(root, d, hd, level):\n",
    "     \n",
    "      # Base case\n",
    "    if root is None:\n",
    "        return\n",
    "     \n",
    "    # If current level is more than or equal\n",
    "    # to maximum level seen so far for the\n",
    "    # same horizontal distance or horizontal\n",
    "    # distance is seen for the first time,\n",
    "    # update the dictionary\n",
    "    if hd in d:\n",
    "        if level >= d[hd][1]:\n",
    "            d[hd] = [root.data, level]\n",
    "    else:\n",
    "        d[hd] = [root.data, level]\n",
    "         \n",
    "    # recur for left subtree by decreasing\n",
    "    # horizontal distance and increasing\n",
    "    # level by 1\n",
    "    printBottomViewUtil(root.left, d, hd - 1,\n",
    "                                   level + 1)\n",
    "     \n",
    "    # recur for right subtree by increasing\n",
    "    # horizontal distance and increasing\n",
    "    # level by 1\n",
    "    printBottomViewUtil(root.right, d, hd + 1,\n",
    "                                    level + 1)\n",
    " \n",
    "# Driver Code   \n",
    "if __name__ == '__main__':\n",
    "     \n",
    "    root = Node(20)\n",
    "    root.left = Node(8)\n",
    "    root.right = Node(22)\n",
    "    root.left.left = Node(5)\n",
    "    root.left.right = Node(3)\n",
    "    root.right.left = Node(4)\n",
    "    root.right.right = Node(25)\n",
    "    root.left.right.left = Node(10)\n",
    "    root.left.right.right = Node(14)\n",
    "     \n",
    "    print(\"Bottom view of the given binary tree :\")\n",
    "     \n",
    "    printBottomView(root)"
   ]
  },
  {
   "cell_type": "code",
   "execution_count": null,
   "id": "abb0247f",
   "metadata": {},
   "outputs": [],
   "source": []
  }
 ],
 "metadata": {
  "kernelspec": {
   "display_name": "Python 3 (ipykernel)",
   "language": "python",
   "name": "python3"
  },
  "language_info": {
   "codemirror_mode": {
    "name": "ipython",
    "version": 3
   },
   "file_extension": ".py",
   "mimetype": "text/x-python",
   "name": "python",
   "nbconvert_exporter": "python",
   "pygments_lexer": "ipython3",
   "version": "3.9.12"
  }
 },
 "nbformat": 4,
 "nbformat_minor": 5
}
