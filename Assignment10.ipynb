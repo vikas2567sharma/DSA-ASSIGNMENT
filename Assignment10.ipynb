{
 "cells": [
  {
   "cell_type": "markdown",
   "id": "d091e577",
   "metadata": {},
   "source": [
    "# Q1"
   ]
  },
  {
   "cell_type": "code",
   "execution_count": null,
   "id": "038eb0ba",
   "metadata": {},
   "outputs": [],
   "source": [
    "class Solution(object):\n",
    "    def isPowerOfThree(self, n):\n",
    "        \"\"\"\n",
    "        :type n: int\n",
    "        :rtype: bool\n",
    "        \"\"\"\n",
    "        if n == 1:\n",
    "            return True\n",
    "        elif n < 3:\n",
    "            return False\n",
    "        \n",
    "        if not n%3:\n",
    "            return self.isPowerOfThree(n/3)\n",
    "        return False"
   ]
  },
  {
   "cell_type": "markdown",
   "id": "d56037a8",
   "metadata": {},
   "source": [
    "# Q2"
   ]
  },
  {
   "cell_type": "code",
   "execution_count": null,
   "id": "118c62fa",
   "metadata": {},
   "outputs": [],
   "source": [
    "class Solution:\n",
    "    def lastRemaining(self, n: int) -> int:\n",
    "        a1, an = 1, n\n",
    "        i, step, cnt = 0, 1, n\n",
    "        while cnt > 1:\n",
    "            if i % 2:\n",
    "                an -= step\n",
    "                if cnt % 2:\n",
    "                    a1 += step\n",
    "            else:\n",
    "                a1 += step\n",
    "                if cnt % 2:\n",
    "                    an -= step\n",
    "            cnt >>= 1\n",
    "            step <<= 1\n",
    "            i += 1\n",
    "        return a1"
   ]
  },
  {
   "cell_type": "markdown",
   "id": "edf5feb6",
   "metadata": {},
   "source": [
    "# Q3"
   ]
  },
  {
   "cell_type": "code",
   "execution_count": 4,
   "id": "d6bfc78e",
   "metadata": {},
   "outputs": [],
   "source": [
    "def powerSet(str1, index, curr):\n",
    "    n = len(str1)\n",
    " \n",
    "    # base case\n",
    "    if (index == n):\n",
    "        return\n",
    " \n",
    "    # First print current subset\n",
    "    print(curr)\n",
    " \n",
    "    # Try appending remaining characters\n",
    "    # to current subset\n",
    "    for i in range(index + 1, n):\n",
    "        curr += str1[i]\n",
    "        powerSet(str1, i, curr)\n",
    " \n",
    "        # Once all subsets beginning with\n",
    "        # initial \"curr\" are printed, remove\n",
    "        # last character to consider a different\n",
    "        # prefix of subsets.\n",
    "        curr = curr.replace(curr[len(curr) - 1], \"\")\n",
    " \n",
    "    return"
   ]
  },
  {
   "cell_type": "markdown",
   "id": "7de4eeb1",
   "metadata": {},
   "source": [
    "# Q4"
   ]
  },
  {
   "cell_type": "code",
   "execution_count": null,
   "id": "bfe03892",
   "metadata": {},
   "outputs": [],
   "source": [
    "def string_length(str) :\n",
    "     \n",
    "    # if we reach at the\n",
    "    # end of the string\n",
    "    if str == '':\n",
    "        return 0\n",
    "    else :\n",
    "        return 1 + string_length(str[1:])\n",
    "     \n",
    "# Driver Code\n",
    "print (string_length(str))"
   ]
  },
  {
   "cell_type": "markdown",
   "id": "3abe41a4",
   "metadata": {},
   "source": [
    "# Q5"
   ]
  },
  {
   "cell_type": "code",
   "execution_count": 1,
   "id": "fc1767a8",
   "metadata": {},
   "outputs": [],
   "source": [
    "def checkEquality(s):\n",
    "    return (ord(s[0]) == ord(s[len(s) - 1]));\n",
    " \n",
    "def countSubstringWithEqualEnds(s):\n",
    "    result = 0;\n",
    "    n = len(s);\n",
    " \n",
    "    # Starting point of substring\n",
    "    for i in range(n):\n",
    " \n",
    "    # Length of substring\n",
    "        for j in range(1,n-i+1):\n",
    " \n",
    "        # Check if current substring has same\n",
    "        # starting and ending characters.\n",
    "            if (checkEquality(s[i:i+j])):\n",
    "                result+=1;\n",
    " \n",
    "    return result;"
   ]
  },
  {
   "cell_type": "markdown",
   "id": "c43f090c",
   "metadata": {},
   "source": [
    "# Q6"
   ]
  },
  {
   "cell_type": "code",
   "execution_count": null,
   "id": "4faea469",
   "metadata": {},
   "outputs": [],
   "source": [
    "def TowerOfHanoi(n, from_rod, to_rod, aux_rod):\n",
    "    if n == 0:\n",
    "        return\n",
    "    TowerOfHanoi(n-1, from_rod, aux_rod, to_rod)\n",
    "    print(\"Move disk\", n, \"from rod\", from_rod, \"to rod\", to_rod)\n",
    "    TowerOfHanoi(n-1, aux_rod, to_rod, from_rod)\n",
    "  \n",
    "  \n",
    "# Driver code\n",
    "N = 3\n",
    "  \n",
    "# A, C, B are the name of rods\n",
    "TowerOfHanoi(N, 'A', 'C', 'B')\n",
    "  "
   ]
  },
  {
   "cell_type": "markdown",
   "id": "dbcced56",
   "metadata": {},
   "source": [
    "# Q7"
   ]
  },
  {
   "cell_type": "code",
   "execution_count": null,
   "id": "8d27d810",
   "metadata": {},
   "outputs": [],
   "source": [
    "def toString(List):\n",
    "    return ''.join(List)\n",
    " \n",
    " \n",
    " \n",
    "def permute(a, l, r):\n",
    "    if l == r:\n",
    "        print(toString(a))\n",
    "    else:\n",
    "        for i in range(l, r):\n",
    "            a[l], a[i] = a[i], a[l]\n",
    "            permute(a, l+1, r)\n",
    "            a[l], a[i] = a[i], a[l]  # backtrack\n",
    " \n",
    " \n",
    "# Driver code\n",
    "string = \"ABC\"\n",
    "n = len(string)\n",
    "a = list(string)\n",
    " \n",
    "# Function call\n",
    "permute(a, 0, n)"
   ]
  },
  {
   "cell_type": "markdown",
   "id": "5e4729bb",
   "metadata": {},
   "source": [
    "# Q8"
   ]
  },
  {
   "cell_type": "code",
   "execution_count": null,
   "id": "10f25b85",
   "metadata": {},
   "outputs": [],
   "source": [
    "def isConsonant(ch):\n",
    "      \n",
    "    # To handle lower case\n",
    "    ch = ch.upper()\n",
    "  \n",
    "    return not (ch == 'A' or ch == 'E' or \n",
    "                ch == 'I' or ch == 'O' or \n",
    "                ch == 'U') and ord(ch) >= 65 and ord(ch) <= 90\n",
    "  \n",
    "def totalConsonants(string):\n",
    "      \n",
    "    count = 0\n",
    "      \n",
    "    for i in range(len(string)):\n",
    "  \n",
    "        # To check is character is Consonant\n",
    "        if (isConsonant(string[i])):\n",
    "            count += 1\n",
    "              \n",
    "    return count\n",
    "  \n",
    "# Driver code\n",
    "string = \"abc de\"\n",
    "print(totalConsonants(string))"
   ]
  }
 ],
 "metadata": {
  "kernelspec": {
   "display_name": "Python 3 (ipykernel)",
   "language": "python",
   "name": "python3"
  },
  "language_info": {
   "codemirror_mode": {
    "name": "ipython",
    "version": 3
   },
   "file_extension": ".py",
   "mimetype": "text/x-python",
   "name": "python",
   "nbconvert_exporter": "python",
   "pygments_lexer": "ipython3",
   "version": "3.9.12"
  }
 },
 "nbformat": 4,
 "nbformat_minor": 5
}
