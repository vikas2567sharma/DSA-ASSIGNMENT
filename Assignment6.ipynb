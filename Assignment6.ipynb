{
 "cells": [
  {
   "cell_type": "markdown",
   "id": "c095f494",
   "metadata": {},
   "source": [
    "# Q.1"
   ]
  },
  {
   "cell_type": "code",
   "execution_count": null,
   "id": "1cebc40c",
   "metadata": {},
   "outputs": [],
   "source": [
    "class Solution:\n",
    "    def diStringMatch(self, s: str) -> List[int]:\n",
    "        n = len(s)\n",
    "        low, high = 0, n\n",
    "        ans = []\n",
    "        for i in range(n):\n",
    "            if s[i] == 'I':\n",
    "                ans.append(low)\n",
    "                low += 1\n",
    "            else:\n",
    "                ans.append(high)\n",
    "                high -= 1\n",
    "        ans.append(low)\n",
    "        return ans"
   ]
  },
  {
   "cell_type": "markdown",
   "id": "6ffe311b",
   "metadata": {},
   "source": [
    "# Q.2"
   ]
  },
  {
   "cell_type": "code",
   "execution_count": null,
   "id": "563b0e28",
   "metadata": {},
   "outputs": [],
   "source": [
    "class Solution:\n",
    "    def searchMatrix(self, matrix: List[List[int]], target: int) -> bool:\n",
    "        m, n = len(matrix), len(matrix[0])\n",
    "        left, right = 0, m * n - 1\n",
    "        while left < right:\n",
    "            mid = (left + right) >> 1\n",
    "            x, y = divmod(mid, n)\n",
    "            if matrix[x][y] >= target:\n",
    "                right = mid\n",
    "            else:\n",
    "                left = mid + 1\n",
    "        return matrix[left // n][left % n] == target"
   ]
  },
  {
   "cell_type": "markdown",
   "id": "81cc0b4d",
   "metadata": {},
   "source": [
    "# Q3"
   ]
  },
  {
   "cell_type": "code",
   "execution_count": null,
   "id": "93226c13",
   "metadata": {},
   "outputs": [],
   "source": [
    "class Solution:\n",
    "    def validMountainArray(self, arr: List[int]) -> bool:\n",
    "        n = len(arr)\n",
    "        if n < 3:\n",
    "            return False\n",
    "        l, r = 0, n - 1\n",
    "        while l + 1 < n - 1 and arr[l] < arr[l + 1]:\n",
    "            l += 1\n",
    "        while r - 1 > 0 and arr[r] < arr[r - 1]:\n",
    "            r -= 1\n",
    "        return l == r"
   ]
  },
  {
   "cell_type": "markdown",
   "id": "bdc106a1",
   "metadata": {},
   "source": [
    "# Q4"
   ]
  },
  {
   "cell_type": "code",
   "execution_count": null,
   "id": "675e7a9a",
   "metadata": {},
   "outputs": [],
   "source": [
    "class Solution:\n",
    "    def findMaxLength(self, nums: List[int]) -> int:\n",
    "        s = ans = 0\n",
    "        mp = {0: -1}\n",
    "        for i, v in enumerate(nums):\n",
    "            s += 1 if v == 1 else -1\n",
    "            if s in mp:\n",
    "                ans = max(ans, i - mp[s])\n",
    "            else:\n",
    "                mp[s] = i\n",
    "        return ans"
   ]
  },
  {
   "cell_type": "markdown",
   "id": "1459e63e",
   "metadata": {},
   "source": [
    "# Q5"
   ]
  },
  {
   "cell_type": "code",
   "execution_count": null,
   "id": "0891c285",
   "metadata": {},
   "outputs": [],
   "source": [
    "class Solution:\n",
    "    def minProductSum(self, nums1: List[int], nums2: List[int]) -> int:\n",
    "        nums1.sort()\n",
    "        nums2.sort()\n",
    "        n, res = len(nums1), 0\n",
    "        for i in range(n):\n",
    "            res += nums1[i] * nums2[n - i - 1]\n",
    "        return res"
   ]
  },
  {
   "cell_type": "markdown",
   "id": "3b646c57",
   "metadata": {},
   "source": [
    "# Q6"
   ]
  },
  {
   "cell_type": "code",
   "execution_count": null,
   "id": "0001edc2",
   "metadata": {},
   "outputs": [],
   "source": [
    "class Solution:\n",
    "    def findOriginalArray(self, changed: List[int]) -> List[int]:\n",
    "        n = len(changed)\n",
    "        if n & 1:\n",
    "            return []\n",
    "        cnt = Counter(changed)\n",
    "        changed.sort()\n",
    "        ans = []\n",
    "        for x in changed:\n",
    "            if cnt[x] == 0:\n",
    "                continue\n",
    "            if cnt[x * 2] <= 0:\n",
    "                return []\n",
    "            ans.append(x)\n",
    "            cnt[x] -= 1\n",
    "            cnt[x * 2] -= 1\n",
    "        return ans if len(ans) == n // 2 else []"
   ]
  },
  {
   "cell_type": "markdown",
   "id": "23f9ac69",
   "metadata": {},
   "source": [
    "# Q7"
   ]
  },
  {
   "cell_type": "code",
   "execution_count": null,
   "id": "5e8b119e",
   "metadata": {},
   "outputs": [],
   "source": [
    "class Solution:\n",
    "    def generateMatrix(self, n: int) -> List[List[int]]:\n",
    "        ans = [[0] * n for _ in range(n)]\n",
    "        dirs = ((0, 1), (1, 0), (0, -1), (-1, 0))\n",
    "        i = j = k = 0\n",
    "        for v in range(1, n * n + 1):\n",
    "            ans[i][j] = v\n",
    "            x, y = i + dirs[k][0], j + dirs[k][1]\n",
    "            if x < 0 or y < 0 or x >= n or y >= n or ans[x][y]:\n",
    "                k = (k + 1) % 4\n",
    "                x, y = i + dirs[k][0], j + dirs[k][1]\n",
    "            i, j = x, y\n",
    "        return ans"
   ]
  },
  {
   "cell_type": "markdown",
   "id": "fd3fcb09",
   "metadata": {},
   "source": [
    "# Q8"
   ]
  },
  {
   "cell_type": "code",
   "execution_count": null,
   "id": "b5122b27",
   "metadata": {},
   "outputs": [],
   "source": [
    "class Solution:\n",
    "    def multiply(self, mat1: List[List[int]], mat2: List[List[int]]) -> List[List[int]]:\n",
    "        r1, c1, c2 = len(mat1), len(mat1[0]), len(mat2[0])\n",
    "        res = [[0] * c2 for _ in range(r1)]\n",
    "        mp = defaultdict(list)\n",
    "        for i in range(r1):\n",
    "            for j in range(c1):\n",
    "                if mat1[i][j] != 0:\n",
    "                    mp[i].append(j)\n",
    "        for i in range(r1):\n",
    "            for j in range(c2):\n",
    "                for k in mp[i]:\n",
    "                    res[i][j] += mat1[i][k] * mat2[k][j]\n",
    "        return res"
   ]
  }
 ],
 "metadata": {
  "kernelspec": {
   "display_name": "Python 3 (ipykernel)",
   "language": "python",
   "name": "python3"
  },
  "language_info": {
   "codemirror_mode": {
    "name": "ipython",
    "version": 3
   },
   "file_extension": ".py",
   "mimetype": "text/x-python",
   "name": "python",
   "nbconvert_exporter": "python",
   "pygments_lexer": "ipython3",
   "version": "3.9.12"
  }
 },
 "nbformat": 4,
 "nbformat_minor": 5
}
